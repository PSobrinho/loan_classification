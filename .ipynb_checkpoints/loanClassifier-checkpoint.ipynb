{
 "cells": [
  {
   "cell_type": "markdown",
   "metadata": {},
   "source": [
    "# Classificador de empréstimos\n",
    "\n",
    "Usando o PyData Stack e o SKLearn serão treinados e avaliados modelos preditivos de classificação (KNN, Decision Trees, Logistic Regression  SVM) com objetivo de ajudar na tomada de decisão para concessão de empréstimos. O DataSample vem do dataset [Loan Data](https://www.kaggle.com/zhijinzhai/loandata) disponível no Kaggle, está estruturado da seguinte forma:\n",
    "\n",
    "* Loan_id: Valor unico que identifica cada cliente de empréstimo;\n",
    "\n",
    "* Loan_status: Se o empréstimo foi pago (PAIDOFF) ou está em cobrança (COLLECTION) ou se foi pago após cobrança (COLLECTION_PAIDOFF);\n",
    "\n",
    "* Principal: Valor principal do empréstimo;\n",
    "\n",
    "* terms: pode ter agenda de pagamentos semanal (7) bisemanal (15) ou mensal (30);\n",
    "\n",
    "* Effective_date: quando o empréstimo foi originado;\n",
    "\n",
    "* Due_date: data de vencimento;\n",
    "\n",
    "* Paidoff_time: tempo levado pelo cliente para pagar o empréstimo;\n",
    "\n",
    "* Pastdue_days: dias passados do vencimento;\n",
    "\n",
    "* Age, education, gender: dados demográficos dos clientes"
   ]
  },
  {
   "cell_type": "code",
   "execution_count": 30,
   "metadata": {},
   "outputs": [],
   "source": [
    "import numpy as np\n",
    "import pandas as pd\n",
    "import matplotlib.pyplot as plt\n",
    "from matplotlib.ticker import NullFormatter\n",
    "import matplotlib.ticker as ticker\n",
    "import seaborn as sns\n",
    "import itertools\n",
    "from sklearn import preprocessing\n",
    "\n",
    "%matplotlib inline"
   ]
  },
  {
   "cell_type": "markdown",
   "metadata": {},
   "source": [
    "# Preparando o DataSample"
   ]
  },
  {
   "cell_type": "code",
   "execution_count": 31,
   "metadata": {},
   "outputs": [
    {
     "name": "stdout",
     "output_type": "stream",
     "text": [
      "       Loan_ID loan_status  Principal  terms effective_date   due_date  \\\n",
      "0  xqd20166231     PAIDOFF       1000     30       9/8/2016  10/7/2016   \n",
      "1  xqd20168902     PAIDOFF       1000     30       9/8/2016  10/7/2016   \n",
      "2  xqd20160003     PAIDOFF       1000     30       9/8/2016  10/7/2016   \n",
      "3  xqd20160004     PAIDOFF       1000     15       9/8/2016  9/22/2016   \n",
      "4  xqd20160005     PAIDOFF       1000     30       9/9/2016  10/8/2016   \n",
      "\n",
      "     paid_off_time  past_due_days  age             education  Gender  \n",
      "0  9/14/2016 19:31            NaN   45  High School or Below    male  \n",
      "1   10/7/2016 9:00            NaN   50              Bechalor  female  \n",
      "2  9/25/2016 16:58            NaN   33              Bechalor  female  \n",
      "3  9/22/2016 20:00            NaN   27               college    male  \n",
      "4  9/23/2016 21:36            NaN   28               college  female  \n",
      "(500, 11)\n"
     ]
    }
   ],
   "source": [
    "df = pd.read_csv('data/loanPayments.csv', sep = ',')\n",
    "\n",
    "print(df.head())\n",
    "\n",
    "print(df.shape)"
   ]
  },
  {
   "cell_type": "markdown",
   "metadata": {},
   "source": [
    "Algumas das colunas não são interessantes para o objetivo final: Loan_ID, past_due_days, paid_off_time. Além disso é importante formatar os datatypes das colunas restantes que contêm datas: effective_due e due_date"
   ]
  },
  {
   "cell_type": "code",
   "execution_count": 32,
   "metadata": {},
   "outputs": [
    {
     "name": "stdout",
     "output_type": "stream",
     "text": [
      "  loan_status  Principal  terms effective_date   due_date  age  \\\n",
      "0     PAIDOFF       1000     30     2016-09-08 2016-10-07   45   \n",
      "1     PAIDOFF       1000     30     2016-09-08 2016-10-07   50   \n",
      "2     PAIDOFF       1000     30     2016-09-08 2016-10-07   33   \n",
      "3     PAIDOFF       1000     15     2016-09-08 2016-09-22   27   \n",
      "4     PAIDOFF       1000     30     2016-09-09 2016-10-08   28   \n",
      "\n",
      "              education  Gender  \n",
      "0  High School or Below    male  \n",
      "1              Bechalor  female  \n",
      "2              Bechalor  female  \n",
      "3               college    male  \n",
      "4               college  female  \n",
      "(500, 8)\n"
     ]
    }
   ],
   "source": [
    "df.drop(columns = ['Loan_ID', 'past_due_days', 'paid_off_time'], inplace = True) #remove as colunas Loan_ID, past_due_days e paid_off_time\n",
    "\n",
    "df.effective_date = pd.to_datetime(df.effective_date) #converte effective_data para formato datetime\n",
    "df.due_date = pd.to_datetime(df.due_date) # converte due_date para formato datetime\n",
    "\n",
    "print(df.head())\n",
    "print(df.shape)"
   ]
  },
  {
   "cell_type": "markdown",
   "metadata": {},
   "source": [
    "Pretende-se fazer uma classificação binária, onde o 'loan_status' é a variável dependente, o target (Y). Assim os outros valores possíveis para 'loan_status' não nos interessam"
   ]
  },
  {
   "cell_type": "code",
   "execution_count": 33,
   "metadata": {},
   "outputs": [
    {
     "name": "stdout",
     "output_type": "stream",
     "text": [
      "  loan_status  Principal  terms effective_date   due_date  age  \\\n",
      "0     PAIDOFF       1000     30     2016-09-08 2016-10-07   45   \n",
      "1     PAIDOFF       1000     30     2016-09-08 2016-10-07   50   \n",
      "2     PAIDOFF       1000     30     2016-09-08 2016-10-07   33   \n",
      "3     PAIDOFF       1000     15     2016-09-08 2016-09-22   27   \n",
      "4     PAIDOFF       1000     30     2016-09-09 2016-10-08   28   \n",
      "\n",
      "              education  Gender  \n",
      "0  High School or Below    male  \n",
      "1              Bechalor  female  \n",
      "2              Bechalor  female  \n",
      "3               college    male  \n",
      "4               college  female  \n",
      "(400, 8)\n"
     ]
    }
   ],
   "source": [
    "target = (df.loan_status == 'PAIDOFF') | (df.loan_status == 'COLLECTION') #condição de filtragem\n",
    "\n",
    "df2 = df[target]\n",
    "\n",
    "print(df2.head())\n",
    "print(df2.shape)"
   ]
  },
  {
   "cell_type": "code",
   "execution_count": 34,
   "metadata": {},
   "outputs": [
    {
     "data": {
      "text/plain": [
       "PAIDOFF       300\n",
       "COLLECTION    100\n",
       "Name: loan_status, dtype: int64"
      ]
     },
     "execution_count": 34,
     "metadata": {},
     "output_type": "execute_result"
    }
   ],
   "source": [
    "df2['loan_status'].value_counts() #contagem de valores em 'laon_status'"
   ]
  },
  {
   "cell_type": "markdown",
   "metadata": {},
   "source": [
    "# Visualização, exploração e pré-processamento dos dados"
   ]
  },
  {
   "cell_type": "markdown",
   "metadata": {},
   "source": [
    "**Distribuição da quantia total de empréstimo por gênero**"
   ]
  },
  {
   "cell_type": "code",
   "execution_count": 35,
   "metadata": {},
   "outputs": [
    {
     "data": {
      "text/plain": [
       "<matplotlib.legend.Legend at 0x191b3a9c0f0>"
      ]
     },
     "execution_count": 35,
     "metadata": {},
     "output_type": "execute_result"
    },
    {
     "data": {
      "image/png": "[encoded data removed]",
      "text/plain": [
       "<Figure size 432x216 with 2 Axes>"
      ]
     },
     "metadata": {},
     "output_type": "display_data"
    }
   ],
   "source": [
    "bins = np.linspace(df2.Principal.min(), df2.Principal.max(), 10)\n",
    "\n",
    "sns.set()\n",
    "plot1 = sns.FacetGrid(df2, col = 'Gender', hue = 'loan_status', palette = 'Set2', col_wrap = 2)\n",
    "plot1.map(plt.hist, 'Principal', bins = bins, ec = 'k')\n",
    "\n",
    "plot1.axes[-1].legend()"
   ]
  },
  {
   "cell_type": "code",
   "execution_count": 36,
   "metadata": {},
   "outputs": [
    {
     "data": {
      "text/plain": [
       "Gender  loan_status\n",
       "female  PAIDOFF        0.841270\n",
       "        COLLECTION     0.158730\n",
       "male    PAIDOFF        0.732938\n",
       "        COLLECTION     0.267062\n",
       "Name: loan_status, dtype: float64"
      ]
     },
     "execution_count": 36,
     "metadata": {},
     "output_type": "execute_result"
    }
   ],
   "source": [
    "df2.groupby('Gender')['loan_status'].value_counts(normalize = True) #contagem normalizada dos status de empréstimo agrupada por gênero"
   ]
  },
  {
   "cell_type": "markdown",
   "metadata": {},
   "source": [
    "Note que as mulheres pagam 84% dos empréstimos que realizam (e também fazem emprestimos menores) ao passo que apenas 73% dos homens pagam seus empréstimos. Assim o gênero pode ser uma característica interessante para essa classificação:"
   ]
  },
  {
   "cell_type": "code",
   "execution_count": 37,
   "metadata": {},
   "outputs": [
    {
     "name": "stderr",
     "output_type": "stream",
     "text": [
      "D:\\Anaconda3\\lib\\site-packages\\pandas\\core\\frame.py:3795: SettingWithCopyWarning: \n",
      "A value is trying to be set on a copy of a slice from a DataFrame\n",
      "\n",
      "See the caveats in the documentation: http://pandas.pydata.org/pandas-docs/stable/indexing.html#indexing-view-versus-copy\n",
      "  method=method)\n"
     ]
    }
   ],
   "source": [
    "df2.replace(to_replace = ['male', 'female'], value = [0, 1], inplace = True) #transforma entrada categórica em númérica: male = 0; female = 1"
   ]
  },
  {
   "cell_type": "markdown",
   "metadata": {},
   "source": [
    "** Distribuição da idade por gênero **"
   ]
  },
  {
   "cell_type": "code",
   "execution_count": 38,
   "metadata": {},
   "outputs": [
    {
     "data": {
      "text/plain": [
       "<matplotlib.legend.Legend at 0x191b3c37208>"
      ]
     },
     "execution_count": 38,
     "metadata": {},
     "output_type": "execute_result"
    },
    {
     "data": {
      "image/png": "[encoded data removed]",
      "text/plain": [
       "<Figure size 432x216 with 2 Axes>"
      ]
     },
     "metadata": {},
     "output_type": "display_data"
    }
   ],
   "source": [
    "bins2 = np.linspace(df2.age.min(), df2.age.max(), 10)\n",
    "sns.set()\n",
    "plot2 = sns.FacetGrid(df2, col = 'Gender', hue = 'loan_status', palette = 'Set2', col_wrap = 2)\n",
    "plot2.map(plt.hist, 'age', bins = bins2, ec ='k')\n",
    "\n",
    "plot2.axes[-1].legend()"
   ]
  },
  {
   "cell_type": "markdown",
   "metadata": {},
   "source": [
    "Tanto para homens como para mulheres parece que a inadimplência se concentra entre 20 e 30 anos"
   ]
  },
  {
   "cell_type": "markdown",
   "metadata": {},
   "source": [
    "** Dia da Semana em que os empréstimos são feitos **"
   ]
  },
  {
   "cell_type": "code",
   "execution_count": 39,
   "metadata": {},
   "outputs": [
    {
     "name": "stderr",
     "output_type": "stream",
     "text": [
      "D:\\Anaconda3\\lib\\site-packages\\ipykernel_launcher.py:1: SettingWithCopyWarning: \n",
      "A value is trying to be set on a copy of a slice from a DataFrame.\n",
      "Try using .loc[row_indexer,col_indexer] = value instead\n",
      "\n",
      "See the caveats in the documentation: http://pandas.pydata.org/pandas-docs/stable/indexing.html#indexing-view-versus-copy\n",
      "  \"\"\"Entry point for launching an IPython kernel.\n"
     ]
    },
    {
     "data": {
      "text/plain": [
       "<matplotlib.legend.Legend at 0x191b3d1cbe0>"
      ]
     },
     "execution_count": 39,
     "metadata": {},
     "output_type": "execute_result"
    },
    {
     "data": {
      "image/png": "[encoded data removed]",
      "text/plain": [
       "<Figure size 432x216 with 2 Axes>"
      ]
     },
     "metadata": {},
     "output_type": "display_data"
    }
   ],
   "source": [
    "df2['dayofweek'] = df2.effective_date.dt.dayofweek\n",
    "bins3 = np.linspace(df2.dayofweek.min(), df2.dayofweek.max(), 10)\n",
    "\n",
    "sns.set()\n",
    "plot3 = sns.FacetGrid(df2, col = 'Gender', hue = 'loan_status', palette = 'Set2', col_wrap = 2)\n",
    "plot3.map(plt.hist, 'dayofweek', bins = bins3, ec = 'k')\n",
    "\n",
    "plot3.axes[-1].legend()"
   ]
  },
  {
   "cell_type": "markdown",
   "metadata": {},
   "source": [
    "Note que os empréstimos realizados no final de semana (entre 4 e 6) tendem a não ser pagos, segundo este dataset. Por isso, saber se o empréstimo foi realizado no final de semana ou não pode ser um parâmetro interessante:"
   ]
  },
  {
   "cell_type": "code",
   "execution_count": 40,
   "metadata": {},
   "outputs": [
    {
     "name": "stdout",
     "output_type": "stream",
     "text": [
      "  loan_status  Principal  terms effective_date   due_date  age  \\\n",
      "0     PAIDOFF       1000     30     2016-09-08 2016-10-07   45   \n",
      "1     PAIDOFF       1000     30     2016-09-08 2016-10-07   50   \n",
      "2     PAIDOFF       1000     30     2016-09-08 2016-10-07   33   \n",
      "3     PAIDOFF       1000     15     2016-09-08 2016-09-22   27   \n",
      "4     PAIDOFF       1000     30     2016-09-09 2016-10-08   28   \n",
      "\n",
      "              education  Gender  dayofweek  weekend  \n",
      "0  High School or Below       0          3        0  \n",
      "1              Bechalor       1          3        0  \n",
      "2              Bechalor       1          3        0  \n",
      "3               college       0          3        0  \n",
      "4               college       1          4        1  \n"
     ]
    },
    {
     "name": "stderr",
     "output_type": "stream",
     "text": [
      "D:\\Anaconda3\\lib\\site-packages\\ipykernel_launcher.py:1: SettingWithCopyWarning: \n",
      "A value is trying to be set on a copy of a slice from a DataFrame.\n",
      "Try using .loc[row_indexer,col_indexer] = value instead\n",
      "\n",
      "See the caveats in the documentation: http://pandas.pydata.org/pandas-docs/stable/indexing.html#indexing-view-versus-copy\n",
      "  \"\"\"Entry point for launching an IPython kernel.\n"
     ]
    }
   ],
   "source": [
    "df2['weekend'] = df2.dayofweek.apply(lambda x: 1 if (x>3) else 0)\n",
    "print(df2.head())"
   ]
  },
  {
   "cell_type": "markdown",
   "metadata": {},
   "source": [
    "** Distribuição da quantia de empréstimo por nível de escolaridade **"
   ]
  },
  {
   "cell_type": "code",
   "execution_count": 41,
   "metadata": {},
   "outputs": [
    {
     "data": {
      "text/plain": [
       "<matplotlib.legend.Legend at 0x191b3eaf400>"
      ]
     },
     "execution_count": 41,
     "metadata": {},
     "output_type": "execute_result"
    },
    {
     "data": {
      "image/png": "[encoded data removed]",
      "text/plain": [
       "<Figure size 432x432 with 4 Axes>"
      ]
     },
     "metadata": {},
     "output_type": "display_data"
    }
   ],
   "source": [
    "sns.set()\n",
    "plot4 = sns.FacetGrid(df2, col = 'education', hue = 'loan_status', palette = 'Set2', col_wrap = 2)\n",
    "plot4.map(plt.hist, 'Principal', bins = bins, ec = 'k')\n",
    "\n",
    "plot4.axes[1].legend()"
   ]
  },
  {
   "cell_type": "code",
   "execution_count": 42,
   "metadata": {},
   "outputs": [
    {
     "data": {
      "text/plain": [
       "education             loan_status\n",
       "Bechalor              PAIDOFF        0.788462\n",
       "                      COLLECTION     0.211538\n",
       "High School or Below  PAIDOFF        0.715116\n",
       "                      COLLECTION     0.284884\n",
       "Master or Above       PAIDOFF        0.750000\n",
       "                      COLLECTION     0.250000\n",
       "college               PAIDOFF        0.773256\n",
       "                      COLLECTION     0.226744\n",
       "Name: loan_status, dtype: float64"
      ]
     },
     "execution_count": 42,
     "metadata": {},
     "output_type": "execute_result"
    }
   ],
   "source": [
    "df2.groupby('education')['loan_status'].value_counts(normalize = True) #contagem normalizada do status do empréstimo agrupada por nível de escolaridade"
   ]
  },
  {
   "cell_type": "markdown",
   "metadata": {},
   "source": [
    "A escolaridade também parece ser um critério interessante"
   ]
  },
  {
   "cell_type": "code",
   "execution_count": 43,
   "metadata": {},
   "outputs": [
    {
     "name": "stdout",
     "output_type": "stream",
     "text": [
      "   Bechalor  High School or Below  Master or Above  college\n",
      "0         0                     1                0        0\n",
      "1         1                     0                0        0\n",
      "2         1                     0                0        0\n",
      "3         0                     0                0        1\n",
      "4         0                     0                0        1\n",
      "  loan_status  Principal  terms effective_date   due_date  age  Gender  \\\n",
      "0     PAIDOFF       1000     30     2016-09-08 2016-10-07   45       0   \n",
      "1     PAIDOFF       1000     30     2016-09-08 2016-10-07   50       1   \n",
      "2     PAIDOFF       1000     30     2016-09-08 2016-10-07   33       1   \n",
      "3     PAIDOFF       1000     15     2016-09-08 2016-09-22   27       0   \n",
      "4     PAIDOFF       1000     30     2016-09-09 2016-10-08   28       1   \n",
      "\n",
      "   dayofweek  weekend  Bechalor  High School or Below  Master or Above  \\\n",
      "0          3        0         0                     1                0   \n",
      "1          3        0         1                     0                0   \n",
      "2          3        0         1                     0                0   \n",
      "3          3        0         0                     0                0   \n",
      "4          4        1         0                     0                0   \n",
      "\n",
      "   college  \n",
      "0        0  \n",
      "1        0  \n",
      "2        0  \n",
      "3        1  \n",
      "4        1  \n"
     ]
    }
   ],
   "source": [
    "education = pd.get_dummies(df2.education) #transforma as variáveis categóricas da coluna education em atributos binários\n",
    "\n",
    "df2 = pd.concat([df2, education], axis = 1)\n",
    "df2.drop(columns = 'education', inplace = True)\n",
    "\n",
    "print(education.head())\n",
    "print(df2.head())"
   ]
  },
  {
   "cell_type": "markdown",
   "metadata": {},
   "source": [
    "** Distribuição da quantia de empréstimo por vencimento **"
   ]
  },
  {
   "cell_type": "code",
   "execution_count": 44,
   "metadata": {},
   "outputs": [
    {
     "data": {
      "text/plain": [
       "<matplotlib.legend.Legend at 0x191b4056c88>"
      ]
     },
     "execution_count": 44,
     "metadata": {},
     "output_type": "execute_result"
    },
    {
     "data": {
      "image/png": "[encoded data removed]",
      "text/plain": [
       "<Figure size 432x432 with 3 Axes>"
      ]
     },
     "metadata": {},
     "output_type": "display_data"
    }
   ],
   "source": [
    "sns.set()\n",
    "plot5 = sns.FacetGrid(df2, col = 'terms', hue = 'loan_status',palette = 'Set2', col_wrap = 2)\n",
    "plot5.map(plt.hist, 'Principal', bins = bins, ec = 'k')\n",
    "\n",
    "plot5.axes[1].legend()"
   ]
  },
  {
   "cell_type": "code",
   "execution_count": 45,
   "metadata": {},
   "outputs": [
    {
     "data": {
      "text/plain": [
       "terms  loan_status\n",
       "7      PAIDOFF        1.000000\n",
       "15     PAIDOFF        0.755952\n",
       "       COLLECTION     0.244048\n",
       "30     PAIDOFF        0.721698\n",
       "       COLLECTION     0.278302\n",
       "Name: loan_status, dtype: float64"
      ]
     },
     "execution_count": 45,
     "metadata": {},
     "output_type": "execute_result"
    }
   ],
   "source": [
    "df2.groupby('terms')['loan_status'].value_counts(normalize = True) #contagem normalizada os status de empréstimo agrupadas por termos"
   ]
  },
  {
   "cell_type": "markdown",
   "metadata": {},
   "source": [
    "Os termos do empréstimo também parece ser importante, com atenção especial para os empréstimos semanais que, segundo o dataset, são sempre pagos."
   ]
  },
  {
   "cell_type": "markdown",
   "metadata": {},
   "source": [
    "Dadas as considerações anteriores, os parâmetros selecionados para modelagem serão:\n",
    "\n",
    "* Principal\n",
    "* terms\n",
    "* age\n",
    "* Gender\n",
    "* weekend\n",
    "* Nível de educação\n"
   ]
  },
  {
   "cell_type": "code",
   "execution_count": 46,
   "metadata": {},
   "outputs": [
    {
     "name": "stdout",
     "output_type": "stream",
     "text": [
      "   Principal  terms  age  Gender  weekend  Bechalor  High School or Below  \\\n",
      "0       1000     30   45       0        0         0                     1   \n",
      "1       1000     30   50       1        0         1                     0   \n",
      "2       1000     30   33       1        0         1                     0   \n",
      "3       1000     15   27       0        0         0                     0   \n",
      "4       1000     30   28       1        1         0                     0   \n",
      "\n",
      "   Master or Above  college  \n",
      "0                0        0  \n",
      "1                0        0  \n",
      "2                0        0  \n",
      "3                0        1  \n",
      "4                0        1  \n"
     ]
    }
   ],
   "source": [
    "features  = df2.drop(columns = ['loan_status', 'effective_date', 'due_date', 'dayofweek'])\n",
    "\n",
    "print(features.head())"
   ]
  },
  {
   "cell_type": "markdown",
   "metadata": {},
   "source": [
    "Assim:"
   ]
  },
  {
   "cell_type": "code",
   "execution_count": 47,
   "metadata": {},
   "outputs": [
    {
     "name": "stdout",
     "output_type": "stream",
     "text": [
      "   Principal  terms  age  Gender  weekend  Bechalor  High School or Below  \\\n",
      "0       1000     30   45       0        0         0                     1   \n",
      "1       1000     30   50       1        0         1                     0   \n",
      "2       1000     30   33       1        0         1                     0   \n",
      "3       1000     15   27       0        0         0                     0   \n",
      "4       1000     30   28       1        1         0                     0   \n",
      "\n",
      "   Master or Above  college  \n",
      "0                0        0  \n",
      "1                0        0  \n",
      "2                0        0  \n",
      "3                0        1  \n",
      "4                0        1  \n",
      "[1 1 1 1 1]\n"
     ]
    }
   ],
   "source": [
    "X = features\n",
    "\n",
    "df2.replace(to_replace = ['PAIDOFF', 'COLLECTION'], value = [1,0], inplace = True) #PAIDOFF = 1; COLLECTION = 0\n",
    "y = df2.loan_status.values\n",
    "\n",
    "print(X.head())\n",
    "print(y[0:5])"
   ]
  },
  {
   "cell_type": "markdown",
   "metadata": {},
   "source": [
    "# Normalização, treino e teste"
   ]
  },
  {
   "cell_type": "code",
   "execution_count": 48,
   "metadata": {},
   "outputs": [
    {
     "name": "stdout",
     "output_type": "stream",
     "text": [
      "[[ 0.50130175  0.92089421  2.31334964 -0.43236977 -1.21838912 -0.38655567\n",
      "   1.15133896 -0.10050378 -0.86855395]\n",
      " [ 0.50130175  0.92089421  3.14310202  2.31283513 -1.21838912  2.5869495\n",
      "  -0.86855395 -0.10050378 -0.86855395]\n",
      " [ 0.50130175  0.92089421  0.32194392  2.31283513 -1.21838912  2.5869495\n",
      "  -0.86855395 -0.10050378 -0.86855395]\n",
      " [ 0.50130175 -0.9332552  -0.67375893 -0.43236977 -1.21838912 -0.38655567\n",
      "  -0.86855395 -0.10050378  1.15133896]\n",
      " [ 0.50130175  0.92089421 -0.50780846  2.31283513  0.82075585 -0.38655567\n",
      "  -0.86855395 -0.10050378  1.15133896]]\n"
     ]
    }
   ],
   "source": [
    "X = preprocessing.StandardScaler().fit(X).transform(X.astype(float)) #padronizando os dados eles ganham média zero e variação unitária\n",
    "\n",
    "print(X[0:5])"
   ]
  },
  {
   "cell_type": "code",
   "execution_count": 71,
   "metadata": {},
   "outputs": [
    {
     "name": "stdout",
     "output_type": "stream",
     "text": [
      "Forma dos daos de treino: (280, 9) (280,)\n",
      "Forma dos dados de teste:  (120, 9) (120,)\n"
     ]
    }
   ],
   "source": [
    "from sklearn.model_selection import train_test_split\n",
    "X_train, X_test, y_train, y_test = train_test_split(X, y, test_size = 0.3, random_state = 4) #divide os dados em treino(70%) e teste(30%)\n",
    "\n",
    "print('Forma dos daos de treino:', X_train.shape, y_train.shape)\n",
    "print('Forma dos dados de teste: ', X_test.shape, y_test.shape)"
   ]
  },
  {
   "cell_type": "markdown",
   "metadata": {},
   "source": [
    "# LoanKNN"
   ]
  },
  {
   "cell_type": "code",
   "execution_count": 72,
   "metadata": {},
   "outputs": [],
   "source": [
    "from sklearn.neighbors import KNeighborsClassifier"
   ]
  },
  {
   "cell_type": "markdown",
   "metadata": {},
   "source": [
    "** Treino **"
   ]
  },
  {
   "cell_type": "code",
   "execution_count": 73,
   "metadata": {},
   "outputs": [
    {
     "data": {
      "text/plain": [
       "KNeighborsClassifier(algorithm='auto', leaf_size=30, metric='minkowski',\n",
       "           metric_params=None, n_jobs=1, n_neighbors=5, p=2,\n",
       "           weights='uniform')"
      ]
     },
     "execution_count": 73,
     "metadata": {},
     "output_type": "execute_result"
    }
   ],
   "source": [
    "k = 5\n",
    "loan_knn = KNeighborsClassifier(n_neighbors = k).fit(X_train, y_train) #cria modelo com métrica Minkowski e k = k \n",
    "loan_knn"
   ]
  },
  {
   "cell_type": "markdown",
   "metadata": {},
   "source": [
    "** Teste **"
   ]
  },
  {
   "cell_type": "code",
   "execution_count": 74,
   "metadata": {},
   "outputs": [
    {
     "name": "stdout",
     "output_type": "stream",
     "text": [
      "[1 0 1 0 1]\n"
     ]
    }
   ],
   "source": [
    "yhat = loan_knn.predict(X_test) #faz predições com o modelo treinado \n",
    "\n",
    "print(yhat[0:5])"
   ]
  },
  {
   "cell_type": "markdown",
   "metadata": {},
   "source": [
    "** Avaliação **"
   ]
  },
  {
   "cell_type": "code",
   "execution_count": 75,
   "metadata": {},
   "outputs": [
    {
     "name": "stdout",
     "output_type": "stream",
     "text": [
      "Pontuações de treino: \n",
      " \t Precisão [0.66129032 0.86238532] média:  0.7618378218407813 \n",
      " \t Recall: [0.57746479 0.89952153] média 0.7384931599164364 \n",
      " \t F1-Score [0.61654135 0.88056206] média 0.7485517071366943\n",
      "\n",
      "Pontuações de teste: \n",
      " \t Precisão [0.43478261 0.80412371] média:  0.6194531600179292 \n",
      " \t Recall: [0.34482759 0.85714286] média 0.6009852216748768 \n",
      " \t F1-Score [0.38461538 0.82978723] média 0.607201309328969\n"
     ]
    }
   ],
   "source": [
    "from sklearn import metrics\n",
    "train_precision_score = metrics.precision_score(y_train, loan_knn.predict(X_train), average = None) #Calcula precisão no TrainSet\n",
    "train_recall_score = metrics.recall_score(y_train, loan_knn.predict(X_train), average = None) #Calcula recall no TrainSet\n",
    "train_score = metrics.f1_score(y_train, loan_knn.predict(X_train), average = None) #Calcula F1-Score no TrainSet\n",
    "\n",
    "test_precision_score = metrics.precision_score(y_test, yhat, average = None) #Calcula precisão no TestnSet\n",
    "test_recall_score = metrics.recall_score(y_test, yhat, average = None) #Calcula recall no TestSet\n",
    "test_score = metrics.f1_score(y_test, yhat, average = None) #Calcula F1-Score no TestSet\n",
    "\n",
    "print('Pontuações de treino:', \n",
    "      '\\n \\t Precisão', train_precision_score, 'média: ', train_precision_score.mean(),\n",
    "      '\\n \\t Recall:', train_recall_score, 'média', train_recall_score.mean(),\n",
    "      '\\n \\t F1-Score', train_score, 'média', train_score.mean())\n",
    "\n",
    "print('\\nPontuações de teste:', \n",
    "      '\\n \\t Precisão', test_precision_score, 'média: ', test_precision_score.mean(),\n",
    "      '\\n \\t Recall:', test_recall_score, 'média', test_recall_score.mean(),\n",
    "      '\\n \\t F1-Score', test_score, 'média', test_score.mean())"
   ]
  },
  {
   "cell_type": "markdown",
   "metadata": {},
   "source": [
    "# Avaliação para diferentes valores de 'k'"
   ]
  },
  {
   "cell_type": "markdown",
   "metadata": {},
   "source": [
    "A seção anterior considerou apenas um valor de 'k'. Como se comportam as pontuações para diferentes valores de k"
   ]
  },
  {
   "cell_type": "code",
   "execution_count": 76,
   "metadata": {},
   "outputs": [
    {
     "name": "stdout",
     "output_type": "stream",
     "text": [
      "[ 1  2  3  4  5  6  7  8  9 10 11 12 13 14 15 16 17 18 19 20 21 22 23 24\n",
      " 25 26 27 28 29 30]\n"
     ]
    }
   ],
   "source": [
    "ks = np.arange(1, 31, 1)\n",
    "\n",
    "print(ks)"
   ]
  },
  {
   "cell_type": "code",
   "execution_count": 77,
   "metadata": {},
   "outputs": [
    {
     "name": "stdout",
     "output_type": "stream",
     "text": [
      "---------------------------------------------------------\n",
      "\n",
      " KNeighborsClassifier(algorithm='auto', leaf_size=30, metric='minkowski',\n",
      "           metric_params=None, n_jobs=1, n_neighbors=1, p=2,\n",
      "           weights='uniform')\n",
      "Pontuações de treino: \n",
      " \t Precisão [0.78873239 0.92822967] média:  0.8584810297189838 \n",
      " \t Recall: [0.78873239 0.92822967] média 0.8584810297189838 \n",
      " \t F1-Score [0.78873239 0.92822967] média 0.8584810297189838\n",
      "\n",
      "Pontuações de teste: \n",
      " \t Precisão [0.27272727 0.77011494] média:  0.5214211076280042 \n",
      " \t Recall: [0.31034483 0.73626374] média 0.5233042819249716 \n",
      " \t F1-Score [0.29032258 0.75280899] média 0.5215657847046031\n",
      "---------------------------------------------------------\n",
      "---------------------------------------------------------\n",
      "\n",
      " KNeighborsClassifier(algorithm='auto', leaf_size=30, metric='minkowski',\n",
      "           metric_params=None, n_jobs=1, n_neighbors=2, p=2,\n",
      "           weights='uniform')\n",
      "Pontuações de treino: \n",
      " \t Precisão [0.58823529 0.99378882] média:  0.7910120569967117 \n",
      " \t Recall: [0.98591549 0.76555024] média 0.8757328660960981 \n",
      " \t F1-Score [0.73684211 0.86486486] média 0.8008534850640114\n",
      "\n",
      "Pontuações de teste: \n",
      " \t Precisão [0.34482759 0.85483871] média:  0.5998331479421579 \n",
      " \t Recall: [0.68965517 0.58241758] média 0.6360363774156879 \n",
      " \t F1-Score [0.45977011 0.69281046] média 0.5762902862294343\n",
      "---------------------------------------------------------\n",
      "---------------------------------------------------------\n",
      "\n",
      " KNeighborsClassifier(algorithm='auto', leaf_size=30, metric='minkowski',\n",
      "           metric_params=None, n_jobs=1, n_neighbors=3, p=2,\n",
      "           weights='uniform')\n",
      "Pontuações de treino: \n",
      " \t Precisão [0.71641791 0.89201878] média:  0.804218344895242 \n",
      " \t Recall: [0.67605634 0.90909091] média 0.7925736235595391 \n",
      " \t F1-Score [0.69565217 0.90047393] média 0.7980630537811663\n",
      "\n",
      "Pontuações de teste: \n",
      " \t Precisão [0.33333333 0.78494624] média:  0.5591397849462365 \n",
      " \t Recall: [0.31034483 0.8021978 ] média 0.5562713148920045 \n",
      " \t F1-Score [0.32142857 0.79347826] média 0.5574534161490684\n",
      "---------------------------------------------------------\n",
      "---------------------------------------------------------\n",
      "\n",
      " KNeighborsClassifier(algorithm='auto', leaf_size=30, metric='minkowski',\n",
      "           metric_params=None, n_jobs=1, n_neighbors=4, p=2,\n",
      "           weights='uniform')\n",
      "Pontuações de treino: \n",
      " \t Precisão [0.59793814 0.92896175] média:  0.7634499464818884 \n",
      " \t Recall: [0.81690141 0.81339713] média 0.8151492688186536 \n",
      " \t F1-Score [0.69047619 0.86734694] média 0.7789115646258504\n",
      "\n",
      "Pontuações de teste: \n",
      " \t Precisão [0.35714286 0.82051282] média:  0.5888278388278388 \n",
      " \t Recall: [0.51724138 0.7032967 ] média 0.6102690413035241 \n",
      " \t F1-Score [0.42253521 0.75739645] média 0.5899658304858739\n",
      "---------------------------------------------------------\n",
      "---------------------------------------------------------\n",
      "\n",
      " KNeighborsClassifier(algorithm='auto', leaf_size=30, metric='minkowski',\n",
      "           metric_params=None, n_jobs=1, n_neighbors=5, p=2,\n",
      "           weights='uniform')\n",
      "Pontuações de treino: \n",
      " \t Precisão [0.66129032 0.86238532] média:  0.7618378218407813 \n",
      " \t Recall: [0.57746479 0.89952153] média 0.7384931599164364 \n",
      " \t F1-Score [0.61654135 0.88056206] média 0.7485517071366943\n",
      "\n",
      "Pontuações de teste: \n",
      " \t Precisão [0.43478261 0.80412371] média:  0.6194531600179292 \n",
      " \t Recall: [0.34482759 0.85714286] média 0.6009852216748768 \n",
      " \t F1-Score [0.38461538 0.82978723] média 0.607201309328969\n",
      "---------------------------------------------------------\n",
      "---------------------------------------------------------\n",
      "\n",
      " KNeighborsClassifier(algorithm='auto', leaf_size=30, metric='minkowski',\n",
      "           metric_params=None, n_jobs=1, n_neighbors=6, p=2,\n",
      "           weights='uniform')\n",
      "Pontuações de treino: \n",
      " \t Precisão [0.57608696 0.90425532] média:  0.7401711378353377 \n",
      " \t Recall: [0.74647887 0.81339713] média 0.7799380012130197 \n",
      " \t F1-Score [0.65030675 0.85642317] média 0.753364961134892\n",
      "\n",
      "Pontuações de teste: \n",
      " \t Precisão [0.35   0.8125] média:  0.58125 \n",
      " \t Recall: [0.48275862 0.71428571] média 0.5985221674876847 \n",
      " \t F1-Score [0.4057971  0.76023392] média 0.5830155097889651\n",
      "---------------------------------------------------------\n",
      "---------------------------------------------------------\n",
      "\n",
      " KNeighborsClassifier(algorithm='auto', leaf_size=30, metric='minkowski',\n",
      "           metric_params=None, n_jobs=1, n_neighbors=7, p=2,\n",
      "           weights='uniform')\n",
      "Pontuações de treino: \n",
      " \t Precisão [0.63636364 0.86448598] média:  0.7504248088360238 \n",
      " \t Recall: [0.5915493  0.88516746] média 0.7383583799447402 \n",
      " \t F1-Score [0.61313869 0.87470449] média 0.7439215889285775\n",
      "\n",
      "Pontuações de teste: \n",
      " \t Precisão [0.32       0.77894737] média:  0.5494736842105263 \n",
      " \t Recall: [0.27586207 0.81318681] média 0.5445244410761652 \n",
      " \t F1-Score [0.2962963  0.79569892] média 0.5459976105137396\n",
      "---------------------------------------------------------\n",
      "---------------------------------------------------------\n",
      "\n",
      " KNeighborsClassifier(algorithm='auto', leaf_size=30, metric='minkowski',\n",
      "           metric_params=None, n_jobs=1, n_neighbors=8, p=2,\n",
      "           weights='uniform')\n",
      "Pontuações de treino: \n",
      " \t Precisão [0.52688172 0.88235294] média:  0.704617330803289 \n",
      " \t Recall: [0.69014085 0.78947368] média 0.7398072646404744 \n",
      " \t F1-Score [0.59756098 0.83333333] média 0.7154471544715446\n",
      "\n",
      "Pontuações de teste: \n",
      " \t Precisão [0.36842105 0.81707317] média:  0.5927471116816431 \n",
      " \t Recall: [0.48275862 0.73626374] média 0.6095111784766958 \n",
      " \t F1-Score [0.41791045 0.77456647] média 0.5962384608748167\n",
      "---------------------------------------------------------\n",
      "---------------------------------------------------------\n",
      "\n",
      " KNeighborsClassifier(algorithm='auto', leaf_size=30, metric='minkowski',\n",
      "           metric_params=None, n_jobs=1, n_neighbors=9, p=2,\n",
      "           weights='uniform')\n",
      "Pontuações de treino: \n",
      " \t Precisão [0.57377049 0.83561644] média:  0.7046934650797215 \n",
      " \t Recall: [0.49295775 0.87559809] média 0.6842779163016376 \n",
      " \t F1-Score [0.53030303 0.85514019] média 0.6927216086094591\n",
      "\n",
      "Pontuações de teste: \n",
      " \t Precisão [0.42857143 0.7979798 ] média:  0.6132756132756133 \n",
      " \t Recall: [0.31034483 0.86813187] média 0.5892383478590375 \n",
      " \t F1-Score [0.36       0.83157895] média 0.5957894736842105\n",
      "---------------------------------------------------------\n",
      "---------------------------------------------------------\n",
      "\n",
      " KNeighborsClassifier(algorithm='auto', leaf_size=30, metric='minkowski',\n",
      "           metric_params=None, n_jobs=1, n_neighbors=10, p=2,\n",
      "           weights='uniform')\n",
      "Pontuações de treino: \n",
      " \t Precisão [0.59259259 0.88442211] média:  0.7385073515726782 \n",
      " \t Recall: [0.67605634 0.84210526] média 0.7590808005930318 \n",
      " \t F1-Score [0.63157895 0.8627451 ] média 0.7471620227038183\n",
      "\n",
      "Pontuações de teste: \n",
      " \t Precisão [0.35714286 0.79347826] média:  0.5753105590062112 \n",
      " \t Recall: [0.34482759 0.8021978 ] média 0.5735126942023494 \n",
      " \t F1-Score [0.35087719 0.79781421] média 0.5743457003163647\n",
      "---------------------------------------------------------\n",
      "---------------------------------------------------------\n",
      "\n",
      " KNeighborsClassifier(algorithm='auto', leaf_size=30, metric='minkowski',\n",
      "           metric_params=None, n_jobs=1, n_neighbors=11, p=2,\n",
      "           weights='uniform')\n",
      "Pontuações de treino: \n",
      " \t Precisão [0.58928571 0.83035714] média:  0.7098214285714286 \n",
      " \t Recall: [0.46478873 0.88995215] média 0.677370442752207 \n",
      " \t F1-Score [0.51968504 0.8591224 ] média 0.6894037206088268\n",
      "\n",
      "Pontuações de teste: \n",
      " \t Precisão [0.4  0.79] média:  0.595 \n",
      " \t Recall: [0.27586207 0.86813187] média 0.5719969685486928 \n",
      " \t F1-Score [0.32653061 0.82722513] média 0.5768778715674752\n",
      "---------------------------------------------------------\n",
      "---------------------------------------------------------\n",
      "\n",
      " KNeighborsClassifier(algorithm='auto', leaf_size=30, metric='minkowski',\n",
      "           metric_params=None, n_jobs=1, n_neighbors=12, p=2,\n",
      "           weights='uniform')\n",
      "Pontuações de treino: \n",
      " \t Precisão [0.54545455 0.85714286] média:  0.7012987012987013 \n",
      " \t Recall: [0.5915493  0.83253589] média 0.712042590471056 \n",
      " \t F1-Score [0.56756757 0.84466019] média 0.7061138808711624\n",
      "\n",
      "Pontuações de teste: \n",
      " \t Precisão [0.34482759 0.79120879] média:  0.5680181887078439 \n",
      " \t Recall: [0.34482759 0.79120879] média 0.5680181887078439 \n",
      " \t F1-Score [0.34482759 0.79120879] média 0.5680181887078439\n",
      "---------------------------------------------------------\n",
      "---------------------------------------------------------\n",
      "\n",
      " KNeighborsClassifier(algorithm='auto', leaf_size=30, metric='minkowski',\n",
      "           metric_params=None, n_jobs=1, n_neighbors=13, p=2,\n",
      "           weights='uniform')\n",
      "Pontuações de treino: \n",
      " \t Precisão [0.59259259 0.82743363] média:  0.7100131104555882 \n",
      " \t Recall: [0.45070423 0.89473684] média 0.6727205337286879 \n",
      " \t F1-Score [0.512      0.85977011] média 0.6858850574712644\n",
      "\n",
      "Pontuações de teste: \n",
      " \t Precisão [0.46666667 0.79047619] média:  0.6285714285714286 \n",
      " \t Recall: [0.24137931 0.91208791] média 0.5767336112163698 \n",
      " \t F1-Score [0.31818182 0.84693878] média 0.5825602968460112\n",
      "---------------------------------------------------------\n",
      "---------------------------------------------------------\n",
      "\n",
      " KNeighborsClassifier(algorithm='auto', leaf_size=30, metric='minkowski',\n",
      "           metric_params=None, n_jobs=1, n_neighbors=14, p=2,\n",
      "           weights='uniform')\n",
      "Pontuações de treino: \n",
      " \t Precisão [0.55714286 0.84761905] média:  0.7023809523809523 \n",
      " \t Recall: [0.54929577 0.85167464] média 0.7004852078981063 \n",
      " \t F1-Score [0.55319149 0.849642  ] média 0.7014167470674859\n",
      "\n",
      "Pontuações de teste: \n",
      " \t Precisão [0.47826087 0.81443299] média:  0.6463469296279696 \n",
      " \t Recall: [0.37931034 0.86813187] média 0.6237211064797272 \n",
      " \t F1-Score [0.42307692 0.84042553] média 0.6317512274959084\n",
      "---------------------------------------------------------\n",
      "---------------------------------------------------------\n",
      "\n",
      " KNeighborsClassifier(algorithm='auto', leaf_size=30, metric='minkowski',\n",
      "           metric_params=None, n_jobs=1, n_neighbors=15, p=2,\n",
      "           weights='uniform')\n",
      "Pontuações de treino: \n",
      " \t Precisão [0.55555556 0.81858407] média:  0.6870698131760079 \n",
      " \t Recall: [0.42253521 0.88516746] média 0.6538513376912191 \n",
      " \t F1-Score [0.48       0.85057471] média 0.6652873563218391\n",
      "\n",
      "Pontuações de teste: \n",
      " \t Precisão [0.46666667 0.79047619] média:  0.6285714285714286 \n",
      " \t Recall: [0.24137931 0.91208791] média 0.5767336112163698 \n",
      " \t F1-Score [0.31818182 0.84693878] média 0.5825602968460112\n",
      "---------------------------------------------------------\n",
      "---------------------------------------------------------\n",
      "\n",
      " KNeighborsClassifier(algorithm='auto', leaf_size=30, metric='minkowski',\n",
      "           metric_params=None, n_jobs=1, n_neighbors=16, p=2,\n",
      "           weights='uniform')\n"
     ]
    },
    {
     "name": "stdout",
     "output_type": "stream",
     "text": [
      "Pontuações de treino: \n",
      " \t Precisão [0.47887324 0.82296651] média:  0.6509198733068265 \n",
      " \t Recall: [0.47887324 0.82296651] média 0.6509198733068265 \n",
      " \t F1-Score [0.47887324 0.82296651] média 0.6509198733068265\n",
      "\n",
      "Pontuações de teste: \n",
      " \t Precisão [0.44827586 0.82417582] média:  0.6362258431223948 \n",
      " \t Recall: [0.44827586 0.82417582] média 0.6362258431223948 \n",
      " \t F1-Score [0.44827586 0.82417582] média 0.6362258431223948\n",
      "---------------------------------------------------------\n",
      "---------------------------------------------------------\n",
      "\n",
      " KNeighborsClassifier(algorithm='auto', leaf_size=30, metric='minkowski',\n",
      "           metric_params=None, n_jobs=1, n_neighbors=17, p=2,\n",
      "           weights='uniform')\n",
      "Pontuações de treino: \n",
      " \t Precisão [0.49056604 0.80176211] média:  0.646164076136647 \n",
      " \t Recall: [0.36619718 0.8708134 ] média 0.6185052901138891 \n",
      " \t F1-Score [0.41935484 0.83486239] média 0.6271086120153891\n",
      "\n",
      "Pontuações de teste: \n",
      " \t Precisão [0.38095238 0.78787879] média:  0.5844155844155844 \n",
      " \t Recall: [0.27586207 0.85714286] média 0.5665024630541872 \n",
      " \t F1-Score [0.32       0.82105263] média 0.5705263157894737\n",
      "---------------------------------------------------------\n",
      "---------------------------------------------------------\n",
      "\n",
      " KNeighborsClassifier(algorithm='auto', leaf_size=30, metric='minkowski',\n",
      "           metric_params=None, n_jobs=1, n_neighbors=18, p=2,\n",
      "           weights='uniform')\n",
      "Pontuações de treino: \n",
      " \t Precisão [0.52777778 0.84134615] média:  0.6845619658119658 \n",
      " \t Recall: [0.53521127 0.83732057] média 0.6862659208841566 \n",
      " \t F1-Score [0.53146853 0.83932854] média 0.6853985343193976\n",
      "\n",
      "Pontuações de teste: \n",
      " \t Precisão [0.39285714 0.80434783] média:  0.5986024844720497 \n",
      " \t Recall: [0.37931034 0.81318681] média 0.5962485790071996 \n",
      " \t F1-Score [0.38596491 0.80874317] média 0.5973540408398044\n",
      "---------------------------------------------------------\n",
      "---------------------------------------------------------\n",
      "\n",
      " KNeighborsClassifier(algorithm='auto', leaf_size=30, metric='minkowski',\n",
      "           metric_params=None, n_jobs=1, n_neighbors=19, p=2,\n",
      "           weights='uniform')\n",
      "Pontuações de treino: \n",
      " \t Precisão [0.52777778 0.78688525] média:  0.6573315118397085 \n",
      " \t Recall: [0.26760563 0.91866029] média 0.5931329604420783 \n",
      " \t F1-Score [0.35514019 0.84768212] média 0.601411153060593\n",
      "\n",
      "Pontuações de teste: \n",
      " \t Precisão [0.5        0.79245283] média:  0.6462264150943396 \n",
      " \t Recall: [0.24137931 0.92307692] média 0.5822281167108754 \n",
      " \t F1-Score [0.3255814  0.85279188] média 0.589186636760713\n",
      "---------------------------------------------------------\n",
      "---------------------------------------------------------\n",
      "\n",
      " KNeighborsClassifier(algorithm='auto', leaf_size=30, metric='minkowski',\n",
      "           metric_params=None, n_jobs=1, n_neighbors=20, p=2,\n",
      "           weights='uniform')\n",
      "Pontuações de treino: \n",
      " \t Precisão [0.50724638 0.82938389] média:  0.6683151315337592 \n",
      " \t Recall: [0.49295775 0.83732057] média 0.6651391603207764 \n",
      " \t F1-Score [0.5        0.83333333] média 0.6666666666666667\n",
      "\n",
      "Pontuações de teste: \n",
      " \t Precisão [0.44       0.81052632] média:  0.6252631578947369 \n",
      " \t Recall: [0.37931034 0.84615385] média 0.6127320954907162 \n",
      " \t F1-Score [0.40740741 0.82795699] média 0.6176821983273596\n",
      "---------------------------------------------------------\n",
      "---------------------------------------------------------\n",
      "\n",
      " KNeighborsClassifier(algorithm='auto', leaf_size=30, metric='minkowski',\n",
      "           metric_params=None, n_jobs=1, n_neighbors=21, p=2,\n",
      "           weights='uniform')\n",
      "Pontuações de treino: \n",
      " \t Precisão [0.52       0.77254902] média:  0.6462745098039215 \n",
      " \t Recall: [0.18309859 0.94258373] média 0.5628411618033561 \n",
      " \t F1-Score [0.27083333 0.84913793] média 0.5599856321839081\n",
      "\n",
      "Pontuações de teste: \n",
      " \t Precisão [0.66666667 0.78070175] média:  0.7236842105263157 \n",
      " \t Recall: [0.13793103 0.97802198] média 0.5579765062523683 \n",
      " \t F1-Score [0.22857143 0.86829268] média 0.5484320557491289\n",
      "---------------------------------------------------------\n",
      "---------------------------------------------------------\n",
      "\n",
      " KNeighborsClassifier(algorithm='auto', leaf_size=30, metric='minkowski',\n",
      "           metric_params=None, n_jobs=1, n_neighbors=22, p=2,\n",
      "           weights='uniform')\n",
      "Pontuações de treino: \n",
      " \t Precisão [0.48837209 0.78902954] média:  0.6387008144441173 \n",
      " \t Recall: [0.29577465 0.89473684] média 0.5952557449962935 \n",
      " \t F1-Score [0.36842105 0.83856502] média 0.6034930375265518\n",
      "\n",
      "Pontuações de teste: \n",
      " \t Precisão [0.46666667 0.79047619] média:  0.6285714285714286 \n",
      " \t Recall: [0.24137931 0.91208791] média 0.5767336112163698 \n",
      " \t F1-Score [0.31818182 0.84693878] média 0.5825602968460112\n",
      "---------------------------------------------------------\n",
      "---------------------------------------------------------\n",
      "\n",
      " KNeighborsClassifier(algorithm='auto', leaf_size=30, metric='minkowski',\n",
      "           metric_params=None, n_jobs=1, n_neighbors=23, p=2,\n",
      "           weights='uniform')\n",
      "Pontuações de treino: \n",
      " \t Precisão [0.54545455 0.77131783] média:  0.6583861874559549 \n",
      " \t Recall: [0.16901408 0.95215311] média 0.5605835972774446 \n",
      " \t F1-Score [0.25806452 0.85224839] média 0.5551564550666575\n",
      "\n",
      "Pontuações de teste: \n",
      " \t Precisão [0.33333333 0.76315789] média:  0.5482456140350878 \n",
      " \t Recall: [0.06896552 0.95604396] média 0.5125047366426677 \n",
      " \t F1-Score [0.11428571 0.84878049] média 0.4815331010452962\n",
      "---------------------------------------------------------\n",
      "---------------------------------------------------------\n",
      "\n",
      " KNeighborsClassifier(algorithm='auto', leaf_size=30, metric='minkowski',\n",
      "           metric_params=None, n_jobs=1, n_neighbors=24, p=2,\n",
      "           weights='uniform')\n",
      "Pontuações de treino: \n",
      " \t Precisão [0.47826087 0.79059829] média:  0.634429580081754 \n",
      " \t Recall: [0.30985915 0.88516746] média 0.5975133095222049 \n",
      " \t F1-Score [0.37606838 0.83521445] média 0.605641411510486\n",
      "\n",
      "Pontuações de teste: \n",
      " \t Precisão [0.5  0.81] média:  0.655 \n",
      " \t Recall: [0.34482759 0.89010989] média 0.6174687381583933 \n",
      " \t F1-Score [0.40816327 0.84816754] média 0.628165402286569\n",
      "---------------------------------------------------------\n",
      "---------------------------------------------------------\n",
      "\n",
      " KNeighborsClassifier(algorithm='auto', leaf_size=30, metric='minkowski',\n",
      "           metric_params=None, n_jobs=1, n_neighbors=25, p=2,\n",
      "           weights='uniform')\n",
      "Pontuações de treino: \n",
      " \t Precisão [0.625      0.76893939] média:  0.696969696969697 \n",
      " \t Recall: [0.14084507 0.97129187] média 0.5560684682256216 \n",
      " \t F1-Score [0.22988506 0.85835095] média 0.5441180044227357\n",
      "\n",
      "Pontuações de teste: \n",
      " \t Precisão [0.33333333 0.76068376] média:  0.547008547008547 \n",
      " \t Recall: [0.03448276 0.97802198] média 0.5062523683213338 \n",
      " \t F1-Score [0.0625     0.85576923] média 0.4591346153846153\n",
      "---------------------------------------------------------\n",
      "---------------------------------------------------------\n",
      "\n",
      " KNeighborsClassifier(algorithm='auto', leaf_size=30, metric='minkowski',\n",
      "           metric_params=None, n_jobs=1, n_neighbors=26, p=2,\n",
      "           weights='uniform')\n",
      "Pontuações de treino: \n",
      " \t Precisão [0.45714286 0.7755102 ] média:  0.6163265306122448 \n",
      " \t Recall: [0.22535211 0.90909091] média 0.5672215108834827 \n",
      " \t F1-Score [0.30188679 0.83700441] média 0.5694455988695869\n",
      "\n",
      "Pontuações de teste: \n",
      " \t Precisão [0.5        0.78181818] média:  0.6409090909090909 \n",
      " \t Recall: [0.17241379 0.94505495] média 0.5587343690791966 \n",
      " \t F1-Score [0.25641026 0.85572139] média 0.5560658247225412\n",
      "---------------------------------------------------------\n",
      "---------------------------------------------------------\n",
      "\n",
      " KNeighborsClassifier(algorithm='auto', leaf_size=30, metric='minkowski',\n",
      "           metric_params=None, n_jobs=1, n_neighbors=27, p=2,\n",
      "           weights='uniform')\n",
      "Pontuações de treino: \n",
      " \t Precisão [0.52380952 0.76833977] média:  0.646074646074646 \n",
      " \t Recall: [0.15492958 0.95215311] média 0.5535413437563178 \n",
      " \t F1-Score [0.23913043 0.85042735] média 0.5447788926049796\n",
      "\n",
      "Pontuações de teste: \n",
      " \t Precisão [0.57142857 0.77876106] média:  0.6750948166877371 \n",
      " \t Recall: [0.13793103 0.96703297] média 0.5524820007578628 \n",
      " \t F1-Score [0.22222222 0.8627451 ] média 0.5424836601307189\n",
      "---------------------------------------------------------\n",
      "---------------------------------------------------------\n",
      "\n",
      " KNeighborsClassifier(algorithm='auto', leaf_size=30, metric='minkowski',\n",
      "           metric_params=None, n_jobs=1, n_neighbors=28, p=2,\n",
      "           weights='uniform')\n"
     ]
    },
    {
     "name": "stdout",
     "output_type": "stream",
     "text": [
      "Pontuações de treino: \n",
      " \t Precisão [0.54054054 0.79012346] média:  0.665331998665332 \n",
      " \t Recall: [0.28169014 0.91866029] média 0.6001752139632051 \n",
      " \t F1-Score [0.37037037 0.84955752] média 0.609963946247132\n",
      "\n",
      "Pontuações de teste: \n",
      " \t Precisão [0.6        0.79090909] média:  0.6954545454545454 \n",
      " \t Recall: [0.20689655 0.95604396] média 0.581470253884047 \n",
      " \t F1-Score [0.30769231 0.86567164] média 0.5866819747416763\n",
      "---------------------------------------------------------\n",
      "---------------------------------------------------------\n",
      "\n",
      " KNeighborsClassifier(algorithm='auto', leaf_size=30, metric='minkowski',\n",
      "           metric_params=None, n_jobs=1, n_neighbors=29, p=2,\n",
      "           weights='uniform')\n",
      "Pontuações de treino: \n",
      " \t Precisão [0.52631579 0.76628352] média:  0.6462996571889494 \n",
      " \t Recall: [0.14084507 0.9569378 ] média 0.5488914347327987 \n",
      " \t F1-Score [0.22222222 0.85106383] média 0.5366430260047281\n",
      "\n",
      "Pontuações de teste: \n",
      " \t Precisão [0.6        0.77391304] média:  0.6869565217391305 \n",
      " \t Recall: [0.10344828 0.97802198] média 0.5407351269420235 \n",
      " \t F1-Score [0.17647059 0.86407767] média 0.5202741290691033\n",
      "---------------------------------------------------------\n",
      "---------------------------------------------------------\n",
      "\n",
      " KNeighborsClassifier(algorithm='auto', leaf_size=30, metric='minkowski',\n",
      "           metric_params=None, n_jobs=1, n_neighbors=30, p=2,\n",
      "           weights='uniform')\n",
      "Pontuações de treino: \n",
      " \t Precisão [0.5        0.76744186] média:  0.6337209302325582 \n",
      " \t Recall: [0.15492958 0.94736842] média 0.5511489992587101 \n",
      " \t F1-Score [0.23655914 0.84796574] média 0.5422624392714881\n",
      "\n",
      "Pontuações de teste: \n",
      " \t Precisão [0.66666667 0.78070175] média:  0.7236842105263157 \n",
      " \t Recall: [0.13793103 0.97802198] média 0.5579765062523683 \n",
      " \t F1-Score [0.22857143 0.86829268] média 0.5484320557491289\n",
      "---------------------------------------------------------\n"
     ]
    }
   ],
   "source": [
    "train_precision_mean = []\n",
    "test_precision_mean = []\n",
    "\n",
    "for k in ks: #treina, calcula e computa a classificação para doferentes valore k contidos em ks\n",
    "    loan_knn = KNeighborsClassifier(n_neighbors = k).fit(X_train, y_train)\n",
    "    print('---------------------------------------------------------')\n",
    "    print('\\n', loan_knn)\n",
    "    \n",
    "    yhat = loan_knn.predict(X_test)\n",
    "    \n",
    "    train_precision_score = metrics.precision_score(y_train, loan_knn.predict(X_train), average = None) #Calcula precisão no TrainSet\n",
    "    train_recall_score = metrics.recall_score(y_train, loan_knn.predict(X_train), average = None) #Calcula recall no TrainSet\n",
    "    train_score = metrics.f1_score(y_train, loan_knn.predict(X_train), average = None) #Calcula F1-Score no TrainSet\n",
    "\n",
    "    test_precision_score = metrics.precision_score(y_test, yhat, average = None) #Calcula precisão no TestnSet\n",
    "    test_recall_score = metrics.recall_score(y_test, yhat, average = None) #Calcula recall no TestSet\n",
    "    test_score = metrics.f1_score(y_test, yhat, average = None) #Calcula F1-Score no TestSet\n",
    "\n",
    "    print('Pontuações de treino:', \n",
    "      '\\n \\t Precisão', train_precision_score, 'média: ', train_precision_score.mean(),\n",
    "      '\\n \\t Recall:', train_recall_score, 'média', train_recall_score.mean(),\n",
    "      '\\n \\t F1-Score', train_score, 'média', train_score.mean())\n",
    "\n",
    "    print('\\nPontuações de teste:', \n",
    "      '\\n \\t Precisão', test_precision_score, 'média: ', test_precision_score.mean(),\n",
    "      '\\n \\t Recall:', test_recall_score, 'média', test_recall_score.mean(),\n",
    "      '\\n \\t F1-Score', test_score, 'média', test_score.mean())\n",
    "    \n",
    "    print('---------------------------------------------------------')\n",
    "    \n",
    "    train_precision_mean.append(train_precision_score.mean())\n",
    "    test_precision_mean.append(test_precision_score.mean())\n",
    "    "
   ]
  },
  {
   "cell_type": "code",
   "execution_count": 78,
   "metadata": {},
   "outputs": [
    {
     "name": "stdout",
     "output_type": "stream",
     "text": [
      "[0.8584810297189838, 0.7910120569967117, 0.804218344895242, 0.7634499464818884, 0.7618378218407813, 0.7401711378353377, 0.7504248088360238, 0.704617330803289, 0.7046934650797215, 0.7385073515726782, 0.7098214285714286, 0.7012987012987013, 0.7100131104555882, 0.7023809523809523, 0.6870698131760079, 0.6509198733068265, 0.646164076136647, 0.6845619658119658, 0.6573315118397085, 0.6683151315337592, 0.6462745098039215, 0.6387008144441173, 0.6583861874559549, 0.634429580081754, 0.696969696969697, 0.6163265306122448, 0.646074646074646, 0.665331998665332, 0.6462996571889494, 0.6337209302325582]\n",
      "[0.5214211076280042, 0.5998331479421579, 0.5591397849462365, 0.5888278388278388, 0.6194531600179292, 0.58125, 0.5494736842105263, 0.5927471116816431, 0.6132756132756133, 0.5753105590062112, 0.595, 0.5680181887078439, 0.6285714285714286, 0.6463469296279696, 0.6285714285714286, 0.6362258431223948, 0.5844155844155844, 0.5986024844720497, 0.6462264150943396, 0.6252631578947369, 0.7236842105263157, 0.6285714285714286, 0.5482456140350878, 0.655, 0.547008547008547, 0.6409090909090909, 0.6750948166877371, 0.6954545454545454, 0.6869565217391305, 0.7236842105263157]\n"
     ]
    }
   ],
   "source": [
    "print(train_precision_mean)\n",
    "print(test_precision_mean)"
   ]
  },
  {
   "cell_type": "code",
   "execution_count": 79,
   "metadata": {},
   "outputs": [
    {
     "name": "stdout",
     "output_type": "stream",
     "text": [
      "     k  train_precision_mean  test_precision_mean\n",
      "0    1              0.858481             0.521421\n",
      "1    2              0.791012             0.599833\n",
      "2    3              0.804218             0.559140\n",
      "3    4              0.763450             0.588828\n",
      "4    5              0.761838             0.619453\n",
      "5    6              0.740171             0.581250\n",
      "6    7              0.750425             0.549474\n",
      "7    8              0.704617             0.592747\n",
      "8    9              0.704693             0.613276\n",
      "9   10              0.738507             0.575311\n",
      "10  11              0.709821             0.595000\n",
      "11  12              0.701299             0.568018\n",
      "12  13              0.710013             0.628571\n",
      "13  14              0.702381             0.646347\n",
      "14  15              0.687070             0.628571\n",
      "15  16              0.650920             0.636226\n",
      "16  17              0.646164             0.584416\n",
      "17  18              0.684562             0.598602\n",
      "18  19              0.657332             0.646226\n",
      "19  20              0.668315             0.625263\n",
      "20  21              0.646275             0.723684\n",
      "21  22              0.638701             0.628571\n",
      "22  23              0.658386             0.548246\n",
      "23  24              0.634430             0.655000\n",
      "24  25              0.696970             0.547009\n",
      "25  26              0.616327             0.640909\n",
      "26  27              0.646075             0.675095\n",
      "27  28              0.665332             0.695455\n",
      "28  29              0.646300             0.686957\n",
      "29  30              0.633721             0.723684\n"
     ]
    }
   ],
   "source": [
    "precision_mean = {'k': ks,\n",
    "                  'train_precision_mean': train_precision_mean,\n",
    "                  'test_precision_mean': test_precision_mean}\n",
    "\n",
    "precision_mean = pd.DataFrame(precision_mean)\n",
    "\n",
    "print(precision_mean)"
   ]
  },
  {
   "cell_type": "code",
   "execution_count": 80,
   "metadata": {},
   "outputs": [
    {
     "data": {
      "image/png": "[encoded data removed]",
      "text/plain": [
       "<Figure size 432x288 with 1 Axes>"
      ]
     },
     "metadata": {},
     "output_type": "display_data"
    }
   ],
   "source": [
    "sns.set()\n",
    "\n",
    "plot_precision = precision_mean.plot(kind = 'line', x = 'k')"
   ]
  },
  {
   "cell_type": "code",
   "execution_count": null,
   "metadata": {},
   "outputs": [],
   "source": []
  },
  {
   "cell_type": "markdown",
   "metadata": {},
   "source": [
    "# Loan DT"
   ]
  },
  {
   "cell_type": "code",
   "execution_count": null,
   "metadata": {},
   "outputs": [],
   "source": []
  }
 ],
 "metadata": {
  "kernelspec": {
   "display_name": "Python 3",
   "language": "python",
   "name": "python3"
  },
  "language_info": {
   "codemirror_mode": {
    "name": "ipython",
    "version": 3
   },
   "file_extension": ".py",
   "mimetype": "text/x-python",
   "name": "python",
   "nbconvert_exporter": "python",
   "pygments_lexer": "ipython3",
   "version": "3.6.5"
  }
 },
 "nbformat": 4,
 "nbformat_minor": 2
}
