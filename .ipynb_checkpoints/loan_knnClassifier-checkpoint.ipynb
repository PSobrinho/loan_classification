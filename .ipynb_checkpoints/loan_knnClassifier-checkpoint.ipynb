{
 "cells": [
  {
   "cell_type": "markdown",
   "metadata": {},
   "source": [
    "# Classificador de empréstimo (loanKNN)\n",
    "\n",
    "Usando o PyData Stack e o SKLearn será treinado e avaliado um modelo preditivo de classificação com objetivo de ajudar na tomada de decisão para concessão de empréstimos. O DataSample vem do dataset [Loan Data](https://www.kaggle.com/zhijinzhai/loandata) disponível no Kaggle, está estruturado da seguinte forma:\n",
    "\n",
    "* Loan_id: Valor unico que identifica cada cliente de empréstimo;\n",
    "\n",
    "* Loan_status: Se o empréstimo foi pago (PAIDOFF) ou está em cobrança (COLLECTION) ou se foi pago após cobrança (COLLECTION_PAIDOFF);\n",
    "\n",
    "* Principal: Valor principal do empréstimo;\n",
    "\n",
    "* terms: pode ter agenda de pagamentos semanal (7) bisemanal (15) ou mensal (30);\n",
    "\n",
    "* Effective_date: quando o empréstimo foi originado;\n",
    "\n",
    "* Due_date: data de vencimento;\n",
    "\n",
    "* Paidoff_time: tempo levado pelo cliente para pagar o empréstimo;\n",
    "\n",
    "* Pastdue_days: dias passados do vencimento;\n",
    "\n",
    "* Age, education, gender: dados demográficos dos clientes"
   ]
  },
  {
   "cell_type": "code",
   "execution_count": null,
   "metadata": {},
   "outputs": [],
   "source": []
  }
 ],
 "metadata": {
  "kernelspec": {
   "display_name": "Python 3",
   "language": "python",
   "name": "python3"
  },
  "language_info": {
   "codemirror_mode": {
    "name": "ipython",
    "version": 3
   },
   "file_extension": ".py",
   "mimetype": "text/x-python",
   "name": "python",
   "nbconvert_exporter": "python",
   "pygments_lexer": "ipython3",
   "version": "3.6.5"
  }
 },
 "nbformat": 4,
 "nbformat_minor": 2
}
