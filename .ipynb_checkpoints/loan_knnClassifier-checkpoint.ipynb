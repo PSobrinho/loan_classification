{
 "cells": [
  {
   "cell_type": "markdown",
   "metadata": {},
   "source": [
    "# Classificador de empréstimo (loanKNN)\n",
    "\n",
    "Usando o PyData Stack e o SKLearn será treinado e avaliado um modelo preditivo de classificação com objetivo de ajudar na tomada de decisão para concessão de empréstimos. O DataSample vem do dataset [Loan Data](https://www.kaggle.com/zhijinzhai/loandata) disponível no Kaggle, está estruturado da seguinte forma:\n",
    "\n",
    "* Loan_id: Valor unico que identifica cada cliente de empréstimo;\n",
    "\n",
    "* Loan_status: Se o empréstimo foi pago (PAIDOFF) ou está em cobrança (COLLECTION) ou se foi pago após cobrança (COLLECTION_PAIDOFF);\n",
    "\n",
    "* Principal: Valor principal do empréstimo;\n",
    "\n",
    "* terms: pode ter agenda de pagamentos semanal (7) bisemanal (15) ou mensal (30);\n",
    "\n",
    "* Effective_date: quando o empréstimo foi originado;\n",
    "\n",
    "* Due_date: data de vencimento;\n",
    "\n",
    "* Paidoff_time: tempo levado pelo cliente para pagar o empréstimo;\n",
    "\n",
    "* Pastdue_days: dias passados do vencimento;\n",
    "\n",
    "* Age, education, gender: dados demográficos dos clientes"
   ]
  },
  {
   "cell_type": "code",
   "execution_count": 1,
   "metadata": {},
   "outputs": [],
   "source": [
    "import numpy as np\n",
    "import pandas as pd\n",
    "import matplotlib.pyplot as plt\n",
    "from matplotlib.ticker import NullFormatter\n",
    "import matplotlib.ticker as ticker\n",
    "import seaborn as sns\n",
    "import itertools\n",
    "from sklearn import preprocessing\n",
    "\n",
    "%matplotlib inline"
   ]
  },
  {
   "cell_type": "markdown",
   "metadata": {},
   "source": [
    "# Preparando o DataSample"
   ]
  },
  {
   "cell_type": "code",
   "execution_count": 13,
   "metadata": {},
   "outputs": [
    {
     "name": "stdout",
     "output_type": "stream",
     "text": [
      "       Loan_ID loan_status  Principal  terms effective_date   due_date  \\\n",
      "0  xqd20166231     PAIDOFF       1000     30       9/8/2016  10/7/2016   \n",
      "1  xqd20168902     PAIDOFF       1000     30       9/8/2016  10/7/2016   \n",
      "2  xqd20160003     PAIDOFF       1000     30       9/8/2016  10/7/2016   \n",
      "3  xqd20160004     PAIDOFF       1000     15       9/8/2016  9/22/2016   \n",
      "4  xqd20160005     PAIDOFF       1000     30       9/9/2016  10/8/2016   \n",
      "\n",
      "     paid_off_time  past_due_days  age             education  Gender  \n",
      "0  9/14/2016 19:31            NaN   45  High School or Below    male  \n",
      "1   10/7/2016 9:00            NaN   50              Bechalor  female  \n",
      "2  9/25/2016 16:58            NaN   33              Bechalor  female  \n",
      "3  9/22/2016 20:00            NaN   27               college    male  \n",
      "4  9/23/2016 21:36            NaN   28               college  female  \n",
      "(500, 11)\n"
     ]
    }
   ],
   "source": [
    "df = pd.read_csv('data/loanPayments.csv', sep = ',')\n",
    "\n",
    "print(df.head())\n",
    "\n",
    "print(df.shape)"
   ]
  },
  {
   "cell_type": "markdown",
   "metadata": {},
   "source": [
    "Algumas das colunas não são interessantes para o objetivo final: Loan_ID, past_due_days, paid_off_time. Além disso é importante formatar os datatypes das colunas restantes que contêm datas: effective_due e due_date"
   ]
  },
  {
   "cell_type": "code",
   "execution_count": 14,
   "metadata": {},
   "outputs": [
    {
     "name": "stdout",
     "output_type": "stream",
     "text": [
      "  loan_status  Principal  terms effective_date   due_date  age  \\\n",
      "0     PAIDOFF       1000     30     2016-09-08 2016-10-07   45   \n",
      "1     PAIDOFF       1000     30     2016-09-08 2016-10-07   50   \n",
      "2     PAIDOFF       1000     30     2016-09-08 2016-10-07   33   \n",
      "3     PAIDOFF       1000     15     2016-09-08 2016-09-22   27   \n",
      "4     PAIDOFF       1000     30     2016-09-09 2016-10-08   28   \n",
      "\n",
      "              education  Gender  \n",
      "0  High School or Below    male  \n",
      "1              Bechalor  female  \n",
      "2              Bechalor  female  \n",
      "3               college    male  \n",
      "4               college  female  \n",
      "(500, 8)\n"
     ]
    }
   ],
   "source": [
    "df.drop(columns = ['Loan_ID', 'past_due_days', 'paid_off_time'], inplace = True) #remove as colunas Loan_ID, past_due_days e paid_off_time\n",
    "\n",
    "df.effective_date = pd.to_datetime(df.effective_date) #converte effective_data para formato datetime\n",
    "df.due_date = pd.to_datetime(df.due_date) # converte due_date para formato datetime\n",
    "\n",
    "print(df.head())\n",
    "print(df.shape)"
   ]
  },
  {
   "cell_type": "markdown",
   "metadata": {},
   "source": [
    "Pretende-se fazer uma classificação binária, onde o 'loan_status' é a variável dependente, o target (Y). Assim os outros valores possíveis para 'loan_status' não nos interessam"
   ]
  },
  {
   "cell_type": "code",
   "execution_count": 26,
   "metadata": {},
   "outputs": [
    {
     "name": "stdout",
     "output_type": "stream",
     "text": [
      "  loan_status  Principal  terms effective_date   due_date  age  \\\n",
      "0     PAIDOFF       1000     30     2016-09-08 2016-10-07   45   \n",
      "1     PAIDOFF       1000     30     2016-09-08 2016-10-07   50   \n",
      "2     PAIDOFF       1000     30     2016-09-08 2016-10-07   33   \n",
      "3     PAIDOFF       1000     15     2016-09-08 2016-09-22   27   \n",
      "4     PAIDOFF       1000     30     2016-09-09 2016-10-08   28   \n",
      "\n",
      "              education  Gender  \n",
      "0  High School or Below    male  \n",
      "1              Bechalor  female  \n",
      "2              Bechalor  female  \n",
      "3               college    male  \n",
      "4               college  female  \n",
      "(400, 8)\n"
     ]
    }
   ],
   "source": [
    "target = (df.loan_status == 'PAIDOFF') | (df.loan_status == 'COLLECTION') #condição de filtragem\n",
    "\n",
    "df2 = df[target]\n",
    "\n",
    "print(df2.head())\n",
    "print(df2.shape)"
   ]
  },
  {
   "cell_type": "code",
   "execution_count": 27,
   "metadata": {},
   "outputs": [
    {
     "data": {
      "text/plain": [
       "PAIDOFF       300\n",
       "COLLECTION    100\n",
       "Name: loan_status, dtype: int64"
      ]
     },
     "execution_count": 27,
     "metadata": {},
     "output_type": "execute_result"
    }
   ],
   "source": [
    "df2['loan_status'].value_counts() #contagem de valores em 'laon_status'"
   ]
  },
  {
   "cell_type": "markdown",
   "metadata": {},
   "source": [
    "# Visualização, exploração e pré-processamento dos dados"
   ]
  },
  {
   "cell_type": "markdown",
   "metadata": {},
   "source": [
    "**Distribuição da quantia total de empréstimo por gênero**"
   ]
  },
  {
   "cell_type": "code",
   "execution_count": 44,
   "metadata": {},
   "outputs": [
    {
     "data": {
      "text/plain": [
       "<matplotlib.legend.Legend at 0x1ad000f0358>"
      ]
     },
     "execution_count": 44,
     "metadata": {},
     "output_type": "execute_result"
    },
    {
     "data": {
      "image/png": "[encoded data removed]",
      "text/plain": [
       "<Figure size 432x216 with 2 Axes>"
      ]
     },
     "metadata": {},
     "output_type": "display_data"
    }
   ],
   "source": [
    "bins = np.linspace(df2.Principal.min(), df2.Principal.max(), 10)\n",
    "\n",
    "sns.set()\n",
    "plot1 = sns.FacetGrid(df2, col = 'Gender', hue = 'loan_status', palette = 'Set2', col_wrap = 2)\n",
    "plot1.map(plt.hist, 'Principal', bins = bins, ec = 'k')\n",
    "\n",
    "plot1.axes[-1].legend()"
   ]
  },
  {
   "cell_type": "code",
   "execution_count": 54,
   "metadata": {},
   "outputs": [
    {
     "data": {
      "text/plain": [
       "Gender  loan_status\n",
       "female  PAIDOFF        0.841270\n",
       "        COLLECTION     0.158730\n",
       "male    PAIDOFF        0.732938\n",
       "        COLLECTION     0.267062\n",
       "Name: loan_status, dtype: float64"
      ]
     },
     "execution_count": 54,
     "metadata": {},
     "output_type": "execute_result"
    }
   ],
   "source": [
    "df2.groupby('Gender')['loan_status'].value_counts(normalize = True) #contagem normalizada dos status de empréstimo agrupada por gênero"
   ]
  },
  {
   "cell_type": "markdown",
   "metadata": {},
   "source": [
    "Note que as mulheres pagam 84% dos empréstimos que realizam (e também fazem emprestimos menores) ao passo que apenas 73% dos homens pagam seus empréstimos. Assim o gênero pode ser uma característica interessante para essa classificação:"
   ]
  },
  {
   "cell_type": "code",
   "execution_count": 55,
   "metadata": {},
   "outputs": [
    {
     "name": "stderr",
     "output_type": "stream",
     "text": [
      "D:\\Anaconda3\\lib\\site-packages\\pandas\\core\\frame.py:3795: SettingWithCopyWarning: \n",
      "A value is trying to be set on a copy of a slice from a DataFrame\n",
      "\n",
      "See the caveats in the documentation: http://pandas.pydata.org/pandas-docs/stable/indexing.html#indexing-view-versus-copy\n",
      "  method=method)\n"
     ]
    }
   ],
   "source": [
    "df2.replace(to_replace = ['male', 'female'], value = [0, 1], inplace = True) #transforma entrada categórica em númérica: male = 0; female = 1"
   ]
  },
  {
   "cell_type": "markdown",
   "metadata": {},
   "source": [
    "** Distribuição da idade por gênero **"
   ]
  },
  {
   "cell_type": "code",
   "execution_count": 49,
   "metadata": {},
   "outputs": [
    {
     "data": {
      "text/plain": [
       "<matplotlib.legend.Legend at 0x1ad02aafdd8>"
      ]
     },
     "execution_count": 49,
     "metadata": {},
     "output_type": "execute_result"
    },
    {
     "data": {
      "image/png": "[encoded data removed]",
      "text/plain": [
       "<Figure size 432x216 with 2 Axes>"
      ]
     },
     "metadata": {},
     "output_type": "display_data"
    }
   ],
   "source": [
    "bins2 = np.linspace(df2.age.min(), df2.age.max(), 10)\n",
    "sns.set()\n",
    "plot2 = sns.FacetGrid(df2, col = 'Gender', hue = 'loan_status', palette = 'Set2', col_wrap = 2)\n",
    "plot2.map(plt.hist, 'age', bins = bins2, ec ='k')\n",
    "\n",
    "plot2.axes[-1].legend()"
   ]
  },
  {
   "cell_type": "markdown",
   "metadata": {},
   "source": [
    "Tanto para homens como para mulheres parece que a inadimplência se concentra entre 20 e 30 anos"
   ]
  },
  {
   "cell_type": "markdown",
   "metadata": {},
   "source": [
    "** Dia da Semana em que os empréstimos são feitos **"
   ]
  },
  {
   "cell_type": "code",
   "execution_count": 50,
   "metadata": {},
   "outputs": [
    {
     "name": "stderr",
     "output_type": "stream",
     "text": [
      "D:\\Anaconda3\\lib\\site-packages\\ipykernel_launcher.py:1: SettingWithCopyWarning: \n",
      "A value is trying to be set on a copy of a slice from a DataFrame.\n",
      "Try using .loc[row_indexer,col_indexer] = value instead\n",
      "\n",
      "See the caveats in the documentation: http://pandas.pydata.org/pandas-docs/stable/indexing.html#indexing-view-versus-copy\n",
      "  \"\"\"Entry point for launching an IPython kernel.\n"
     ]
    },
    {
     "data": {
      "text/plain": [
       "<matplotlib.legend.Legend at 0x1ad7f7424e0>"
      ]
     },
     "execution_count": 50,
     "metadata": {},
     "output_type": "execute_result"
    },
    {
     "data": {
      "image/png": "[encoded data removed]",
      "text/plain": [
       "<Figure size 432x216 with 2 Axes>"
      ]
     },
     "metadata": {},
     "output_type": "display_data"
    }
   ],
   "source": [
    "df2['dayofweek'] = df2.effective_date.dt.dayofweek\n",
    "bins3 = np.linspace(df2.dayofweek.min(), df2.dayofweek.max(), 10)\n",
    "\n",
    "sns.set()\n",
    "plot3 = sns.FacetGrid(df2, col = 'Gender', hue = 'loan_status', palette = 'Set2', col_wrap = 2)\n",
    "plot3.map(plt.hist, 'dayofweek', bins = bins3, ec = 'k')\n",
    "\n",
    "plot3.axes[-1].legend()"
   ]
  },
  {
   "cell_type": "markdown",
   "metadata": {},
   "source": [
    "Note que os empréstimos realizados no final de semana (entre 4 e 6) tendem a não ser pagos, segundo este dataset. Por isso, saber se o empréstimo foi realizado no final de semana ou não pode ser um parâmetro interessante:"
   ]
  },
  {
   "cell_type": "code",
   "execution_count": 56,
   "metadata": {},
   "outputs": [
    {
     "name": "stdout",
     "output_type": "stream",
     "text": [
      "  loan_status  Principal  terms effective_date   due_date  age  \\\n",
      "0     PAIDOFF       1000     30     2016-09-08 2016-10-07   45   \n",
      "1     PAIDOFF       1000     30     2016-09-08 2016-10-07   50   \n",
      "2     PAIDOFF       1000     30     2016-09-08 2016-10-07   33   \n",
      "3     PAIDOFF       1000     15     2016-09-08 2016-09-22   27   \n",
      "4     PAIDOFF       1000     30     2016-09-09 2016-10-08   28   \n",
      "\n",
      "              education  Gender  dayofweek  weekend  \n",
      "0  High School or Below       0          3        0  \n",
      "1              Bechalor       1          3        0  \n",
      "2              Bechalor       1          3        0  \n",
      "3               college       0          3        0  \n",
      "4               college       1          4        1  \n"
     ]
    },
    {
     "name": "stderr",
     "output_type": "stream",
     "text": [
      "D:\\Anaconda3\\lib\\site-packages\\ipykernel_launcher.py:1: SettingWithCopyWarning: \n",
      "A value is trying to be set on a copy of a slice from a DataFrame.\n",
      "Try using .loc[row_indexer,col_indexer] = value instead\n",
      "\n",
      "See the caveats in the documentation: http://pandas.pydata.org/pandas-docs/stable/indexing.html#indexing-view-versus-copy\n",
      "  \"\"\"Entry point for launching an IPython kernel.\n"
     ]
    }
   ],
   "source": [
    "df2['weekend'] = df2.dayofweek.apply(lambda x: 1 if (x>3) else 0)\n",
    "print(df2.head())"
   ]
  },
  {
   "cell_type": "markdown",
   "metadata": {},
   "source": [
    "** Distribuição da quantia de empréstimo por nível de escolaridade **"
   ]
  },
  {
   "cell_type": "code",
   "execution_count": 66,
   "metadata": {},
   "outputs": [
    {
     "data": {
      "text/plain": [
       "<matplotlib.legend.Legend at 0x1ad03be65f8>"
      ]
     },
     "execution_count": 66,
     "metadata": {},
     "output_type": "execute_result"
    },
    {
     "data": {
      "image/png": "[encoded data removed]",
      "text/plain": [
       "<Figure size 432x432 with 4 Axes>"
      ]
     },
     "metadata": {},
     "output_type": "display_data"
    }
   ],
   "source": [
    "sns.set()\n",
    "plot4 = sns.FacetGrid(df2, col = 'education', hue = 'loan_status', palette = 'Set2', col_wrap = 2)\n",
    "plot4.map(plt.hist, 'Principal', bins = bins, ec = 'k')\n",
    "\n",
    "plot4.axes[1].legend()"
   ]
  },
  {
   "cell_type": "code",
   "execution_count": 68,
   "metadata": {},
   "outputs": [
    {
     "data": {
      "text/plain": [
       "education             loan_status\n",
       "Bechalor              PAIDOFF        0.788462\n",
       "                      COLLECTION     0.211538\n",
       "High School or Below  PAIDOFF        0.715116\n",
       "                      COLLECTION     0.284884\n",
       "Master or Above       PAIDOFF        0.750000\n",
       "                      COLLECTION     0.250000\n",
       "college               PAIDOFF        0.773256\n",
       "                      COLLECTION     0.226744\n",
       "Name: loan_status, dtype: float64"
      ]
     },
     "execution_count": 68,
     "metadata": {},
     "output_type": "execute_result"
    }
   ],
   "source": [
    "df2.groupby('education')['loan_status'].value_counts(normalize = True) #contagem normalizada do status do empréstimo agrupada por nível de escolaridade"
   ]
  },
  {
   "cell_type": "markdown",
   "metadata": {},
   "source": [
    "A escolaridade também parece ser um critério interessante"
   ]
  },
  {
   "cell_type": "code",
   "execution_count": 76,
   "metadata": {},
   "outputs": [
    {
     "name": "stdout",
     "output_type": "stream",
     "text": [
      "   Bechalor  High School or Below  Master or Above  college\n",
      "0         0                     1                0        0\n",
      "1         1                     0                0        0\n",
      "2         1                     0                0        0\n",
      "3         0                     0                0        1\n",
      "4         0                     0                0        1\n",
      "  loan_status  Principal  terms effective_date   due_date  age  Gender  \\\n",
      "0     PAIDOFF       1000     30     2016-09-08 2016-10-07   45       0   \n",
      "1     PAIDOFF       1000     30     2016-09-08 2016-10-07   50       1   \n",
      "2     PAIDOFF       1000     30     2016-09-08 2016-10-07   33       1   \n",
      "3     PAIDOFF       1000     15     2016-09-08 2016-09-22   27       0   \n",
      "4     PAIDOFF       1000     30     2016-09-09 2016-10-08   28       1   \n",
      "\n",
      "   dayofweek  weekend  Bechalor  High School or Below  Master or Above  \\\n",
      "0          3        0         0                     1                0   \n",
      "1          3        0         1                     0                0   \n",
      "2          3        0         1                     0                0   \n",
      "3          3        0         0                     0                0   \n",
      "4          4        1         0                     0                0   \n",
      "\n",
      "   college  \n",
      "0        0  \n",
      "1        0  \n",
      "2        0  \n",
      "3        1  \n",
      "4        1  \n"
     ]
    }
   ],
   "source": [
    "education = pd.get_dummies(df2.education) #transforma as variáveis categóricas da coluna education em atributos binários\n",
    "\n",
    "df2 = pd.concat([df2, education], axis = 1)\n",
    "df2.drop(columns = 'education', inplace = True)\n",
    "\n",
    "print(education.head())\n",
    "print(df2.head())"
   ]
  },
  {
   "cell_type": "markdown",
   "metadata": {},
   "source": [
    "** Distribuição da quantia de empréstimo por vencimento **"
   ]
  },
  {
   "cell_type": "code",
   "execution_count": 70,
   "metadata": {},
   "outputs": [
    {
     "data": {
      "text/plain": [
       "<matplotlib.legend.Legend at 0x1ad008662e8>"
      ]
     },
     "execution_count": 70,
     "metadata": {},
     "output_type": "execute_result"
    },
    {
     "data": {
      "image/png": "[encoded data removed]",
      "text/plain": [
       "<Figure size 432x432 with 3 Axes>"
      ]
     },
     "metadata": {},
     "output_type": "display_data"
    }
   ],
   "source": [
    "sns.set()\n",
    "plot5 = sns.FacetGrid(df2, col = 'terms', hue = 'loan_status',palette = 'Set2', col_wrap = 2)\n",
    "plot5.map(plt.hist, 'Principal', bins = bins, ec = 'k')\n",
    "\n",
    "plot5.axes[1].legend()"
   ]
  },
  {
   "cell_type": "code",
   "execution_count": 77,
   "metadata": {},
   "outputs": [
    {
     "data": {
      "text/plain": [
       "terms  loan_status\n",
       "7      PAIDOFF        1.000000\n",
       "15     PAIDOFF        0.755952\n",
       "       COLLECTION     0.244048\n",
       "30     PAIDOFF        0.721698\n",
       "       COLLECTION     0.278302\n",
       "Name: loan_status, dtype: float64"
      ]
     },
     "execution_count": 77,
     "metadata": {},
     "output_type": "execute_result"
    }
   ],
   "source": [
    "df2.groupby('terms')['loan_status'].value_counts(normalize = True) #contagem normalizada os status de empréstimo agrupadas por termos"
   ]
  },
  {
   "cell_type": "markdown",
   "metadata": {},
   "source": [
    "Os termos do empréstimo também parece ser importante, com atenção especial para os empréstimos semanais que, segundo o dataset, são sempre pagos."
   ]
  },
  {
   "cell_type": "markdown",
   "metadata": {},
   "source": [
    "Dadas as considerações anteriores, os parâmetros selecionados para modelagem serão:\n",
    "\n",
    "* Principal\n",
    "* terms\n",
    "* age\n",
    "* Gender\n",
    "* weekend\n",
    "* Nível de educação\n"
   ]
  },
  {
   "cell_type": "code",
   "execution_count": 79,
   "metadata": {},
   "outputs": [
    {
     "name": "stdout",
     "output_type": "stream",
     "text": [
      "   Principal  terms  age  Gender  weekend  Bechalor  High School or Below  \\\n",
      "0       1000     30   45       0        0         0                     1   \n",
      "1       1000     30   50       1        0         1                     0   \n",
      "2       1000     30   33       1        0         1                     0   \n",
      "3       1000     15   27       0        0         0                     0   \n",
      "4       1000     30   28       1        1         0                     0   \n",
      "\n",
      "   Master or Above  college  \n",
      "0                0        0  \n",
      "1                0        0  \n",
      "2                0        0  \n",
      "3                0        1  \n",
      "4                0        1  \n"
     ]
    }
   ],
   "source": [
    "features  = df2.drop(columns = ['loan_status', 'effective_date', 'due_date', 'dayofweek'])\n",
    "\n",
    "print(features.head())"
   ]
  },
  {
   "cell_type": "markdown",
   "metadata": {},
   "source": [
    "Assim:"
   ]
  },
  {
   "cell_type": "code",
   "execution_count": 82,
   "metadata": {},
   "outputs": [
    {
     "name": "stdout",
     "output_type": "stream",
     "text": [
      "   Principal  terms  age  Gender  weekend  Bechalor  High School or Below  \\\n",
      "0       1000     30   45       0        0         0                     1   \n",
      "1       1000     30   50       1        0         1                     0   \n",
      "2       1000     30   33       1        0         1                     0   \n",
      "3       1000     15   27       0        0         0                     0   \n",
      "4       1000     30   28       1        1         0                     0   \n",
      "\n",
      "   Master or Above  college  \n",
      "0                0        0  \n",
      "1                0        0  \n",
      "2                0        0  \n",
      "3                0        1  \n",
      "4                0        1  \n",
      "['PAIDOFF' 'PAIDOFF' 'PAIDOFF' 'PAIDOFF' 'PAIDOFF']\n"
     ]
    }
   ],
   "source": [
    "X = features\n",
    "y = df2.loan_status.values\n",
    "\n",
    "print(X.head())\n",
    "print(y[0:5])"
   ]
  },
  {
   "cell_type": "markdown",
   "metadata": {},
   "source": [
    "# Normalização, treino e teste"
   ]
  },
  {
   "cell_type": "code",
   "execution_count": null,
   "metadata": {},
   "outputs": [],
   "source": []
  }
 ],
 "metadata": {
  "kernelspec": {
   "display_name": "Python 3",
   "language": "python",
   "name": "python3"
  },
  "language_info": {
   "codemirror_mode": {
    "name": "ipython",
    "version": 3
   },
   "file_extension": ".py",
   "mimetype": "text/x-python",
   "name": "python",
   "nbconvert_exporter": "python",
   "pygments_lexer": "ipython3",
   "version": "3.6.5"
  }
 },
 "nbformat": 4,
 "nbformat_minor": 2
}
