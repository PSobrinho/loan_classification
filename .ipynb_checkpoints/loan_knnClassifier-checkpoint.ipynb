{
 "cells": [
  {
   "cell_type": "markdown",
   "metadata": {},
   "source": [
    "# Classificador de empréstimo (loanKNN)\n",
    "\n",
    "Usando o PyData Stack e o SKLearn será treinado e avaliado um modelo preditivo de classificação com objetivo de ajudar na tomada de decisão para concessão de empréstimos. O DataSample vem do dataset [Loan Data](https://www.kaggle.com/zhijinzhai/loandata) disponível no Kaggle, está estruturado da seguinte forma:\n",
    "\n",
    "* Loan_id: Valor unico que identifica cada cliente de empréstimo;\n",
    "\n",
    "* Loan_status: Se o empréstimo foi pago (PAIDOFF) ou está em cobrança (COLLECTION) ou se foi pago após cobrança (COLLECTION_PAIDOFF);\n",
    "\n",
    "* Principal: Valor principal do empréstimo;\n",
    "\n",
    "* terms: pode ter agenda de pagamentos semanal (7) bisemanal (15) ou mensal (30);\n",
    "\n",
    "* Effective_date: quando o empréstimo foi originado;\n",
    "\n",
    "* Due_date: data de vencimento;\n",
    "\n",
    "* Paidoff_time: tempo levado pelo cliente para pagar o empréstimo;\n",
    "\n",
    "* Pastdue_days: dias passados do vencimento;\n",
    "\n",
    "* Age, education, gender: dados demográficos dos clientes"
   ]
  },
  {
   "cell_type": "code",
   "execution_count": 1,
   "metadata": {},
   "outputs": [],
   "source": [
    "import numpy as np\n",
    "import pandas as pd\n",
    "import matplotlib.pyplot as plt\n",
    "from matplotlib.ticker import NullFormatter\n",
    "import matplotlib.ticker as ticker\n",
    "import seaborn as sns\n",
    "import itertools\n",
    "from sklearn import preprocessing\n",
    "\n",
    "%matplotlib inline"
   ]
  },
  {
   "cell_type": "markdown",
   "metadata": {},
   "source": [
    "# Preparando o DataSample"
   ]
  },
  {
   "cell_type": "code",
   "execution_count": 2,
   "metadata": {},
   "outputs": [
    {
     "name": "stdout",
     "output_type": "stream",
     "text": [
      "       Loan_ID loan_status  Principal  terms effective_date   due_date  \\\n",
      "0  xqd20166231     PAIDOFF       1000     30       9/8/2016  10/7/2016   \n",
      "1  xqd20168902     PAIDOFF       1000     30       9/8/2016  10/7/2016   \n",
      "2  xqd20160003     PAIDOFF       1000     30       9/8/2016  10/7/2016   \n",
      "3  xqd20160004     PAIDOFF       1000     15       9/8/2016  9/22/2016   \n",
      "4  xqd20160005     PAIDOFF       1000     30       9/9/2016  10/8/2016   \n",
      "\n",
      "     paid_off_time  past_due_days  age             education  Gender  \n",
      "0  9/14/2016 19:31            NaN   45  High School or Below    male  \n",
      "1   10/7/2016 9:00            NaN   50              Bechalor  female  \n",
      "2  9/25/2016 16:58            NaN   33              Bechalor  female  \n",
      "3  9/22/2016 20:00            NaN   27               college    male  \n",
      "4  9/23/2016 21:36            NaN   28               college  female  \n",
      "(500, 11)\n"
     ]
    }
   ],
   "source": [
    "df = pd.read_csv('data/loanPayments.csv', sep = ',')\n",
    "\n",
    "print(df.head())\n",
    "\n",
    "print(df.shape)"
   ]
  },
  {
   "cell_type": "markdown",
   "metadata": {},
   "source": [
    "Algumas das colunas não são interessantes para o objetivo final: Loan_ID, past_due_days, paid_off_time. Além disso é importante formatar os datatypes das colunas restantes que contêm datas: effective_due e due_date"
   ]
  },
  {
   "cell_type": "code",
   "execution_count": 3,
   "metadata": {},
   "outputs": [
    {
     "name": "stdout",
     "output_type": "stream",
     "text": [
      "  loan_status  Principal  terms effective_date   due_date  age  \\\n",
      "0     PAIDOFF       1000     30     2016-09-08 2016-10-07   45   \n",
      "1     PAIDOFF       1000     30     2016-09-08 2016-10-07   50   \n",
      "2     PAIDOFF       1000     30     2016-09-08 2016-10-07   33   \n",
      "3     PAIDOFF       1000     15     2016-09-08 2016-09-22   27   \n",
      "4     PAIDOFF       1000     30     2016-09-09 2016-10-08   28   \n",
      "\n",
      "              education  Gender  \n",
      "0  High School or Below    male  \n",
      "1              Bechalor  female  \n",
      "2              Bechalor  female  \n",
      "3               college    male  \n",
      "4               college  female  \n",
      "(500, 8)\n"
     ]
    }
   ],
   "source": [
    "df.drop(columns = ['Loan_ID', 'past_due_days', 'paid_off_time'], inplace = True) #remove as colunas Loan_ID, past_due_days e paid_off_time\n",
    "\n",
    "df.effective_date = pd.to_datetime(df.effective_date) #converte effective_data para formato datetime\n",
    "df.due_date = pd.to_datetime(df.due_date) # converte due_date para formato datetime\n",
    "\n",
    "print(df.head())\n",
    "print(df.shape)"
   ]
  },
  {
   "cell_type": "markdown",
   "metadata": {},
   "source": [
    "Pretende-se fazer uma classificação binária, onde o 'loan_status' é a variável dependente, o target (Y). Assim os outros valores possíveis para 'loan_status' não nos interessam"
   ]
  },
  {
   "cell_type": "code",
   "execution_count": 4,
   "metadata": {},
   "outputs": [
    {
     "name": "stdout",
     "output_type": "stream",
     "text": [
      "  loan_status  Principal  terms effective_date   due_date  age  \\\n",
      "0     PAIDOFF       1000     30     2016-09-08 2016-10-07   45   \n",
      "1     PAIDOFF       1000     30     2016-09-08 2016-10-07   50   \n",
      "2     PAIDOFF       1000     30     2016-09-08 2016-10-07   33   \n",
      "3     PAIDOFF       1000     15     2016-09-08 2016-09-22   27   \n",
      "4     PAIDOFF       1000     30     2016-09-09 2016-10-08   28   \n",
      "\n",
      "              education  Gender  \n",
      "0  High School or Below    male  \n",
      "1              Bechalor  female  \n",
      "2              Bechalor  female  \n",
      "3               college    male  \n",
      "4               college  female  \n",
      "(400, 8)\n"
     ]
    }
   ],
   "source": [
    "target = (df.loan_status == 'PAIDOFF') | (df.loan_status == 'COLLECTION') #condição de filtragem\n",
    "\n",
    "df2 = df[target]\n",
    "\n",
    "print(df2.head())\n",
    "print(df2.shape)"
   ]
  },
  {
   "cell_type": "code",
   "execution_count": 5,
   "metadata": {},
   "outputs": [
    {
     "data": {
      "text/plain": [
       "PAIDOFF       300\n",
       "COLLECTION    100\n",
       "Name: loan_status, dtype: int64"
      ]
     },
     "execution_count": 5,
     "metadata": {},
     "output_type": "execute_result"
    }
   ],
   "source": [
    "df2['loan_status'].value_counts() #contagem de valores em 'laon_status'"
   ]
  },
  {
   "cell_type": "markdown",
   "metadata": {},
   "source": [
    "# Visualização, exploração e pré-processamento dos dados"
   ]
  },
  {
   "cell_type": "markdown",
   "metadata": {},
   "source": [
    "**Distribuição da quantia total de empréstimo por gênero**"
   ]
  },
  {
   "cell_type": "code",
   "execution_count": 6,
   "metadata": {},
   "outputs": [
    {
     "data": {
      "text/plain": [
       "<matplotlib.legend.Legend at 0x1a8a8a6ce80>"
      ]
     },
     "execution_count": 6,
     "metadata": {},
     "output_type": "execute_result"
    },
    {
     "data": {
      "image/png": "[encoded data removed]",
      "text/plain": [
       "<Figure size 432x216 with 2 Axes>"
      ]
     },
     "metadata": {},
     "output_type": "display_data"
    }
   ],
   "source": [
    "bins = np.linspace(df2.Principal.min(), df2.Principal.max(), 10)\n",
    "\n",
    "sns.set()\n",
    "plot1 = sns.FacetGrid(df2, col = 'Gender', hue = 'loan_status', palette = 'Set2', col_wrap = 2)\n",
    "plot1.map(plt.hist, 'Principal', bins = bins, ec = 'k')\n",
    "\n",
    "plot1.axes[-1].legend()"
   ]
  },
  {
   "cell_type": "code",
   "execution_count": 7,
   "metadata": {},
   "outputs": [
    {
     "data": {
      "text/plain": [
       "Gender  loan_status\n",
       "female  PAIDOFF        0.841270\n",
       "        COLLECTION     0.158730\n",
       "male    PAIDOFF        0.732938\n",
       "        COLLECTION     0.267062\n",
       "Name: loan_status, dtype: float64"
      ]
     },
     "execution_count": 7,
     "metadata": {},
     "output_type": "execute_result"
    }
   ],
   "source": [
    "df2.groupby('Gender')['loan_status'].value_counts(normalize = True) #contagem normalizada dos status de empréstimo agrupada por gênero"
   ]
  },
  {
   "cell_type": "markdown",
   "metadata": {},
   "source": [
    "Note que as mulheres pagam 84% dos empréstimos que realizam (e também fazem emprestimos menores) ao passo que apenas 73% dos homens pagam seus empréstimos. Assim o gênero pode ser uma característica interessante para essa classificação:"
   ]
  },
  {
   "cell_type": "code",
   "execution_count": 8,
   "metadata": {},
   "outputs": [
    {
     "name": "stderr",
     "output_type": "stream",
     "text": [
      "D:\\Anaconda3\\lib\\site-packages\\pandas\\core\\frame.py:3795: SettingWithCopyWarning: \n",
      "A value is trying to be set on a copy of a slice from a DataFrame\n",
      "\n",
      "See the caveats in the documentation: http://pandas.pydata.org/pandas-docs/stable/indexing.html#indexing-view-versus-copy\n",
      "  method=method)\n"
     ]
    }
   ],
   "source": [
    "df2.replace(to_replace = ['male', 'female'], value = [0, 1], inplace = True) #transforma entrada categórica em númérica: male = 0; female = 1"
   ]
  },
  {
   "cell_type": "markdown",
   "metadata": {},
   "source": [
    "** Distribuição da idade por gênero **"
   ]
  },
  {
   "cell_type": "code",
   "execution_count": 9,
   "metadata": {},
   "outputs": [
    {
     "data": {
      "text/plain": [
       "<matplotlib.legend.Legend at 0x1a8a8b18400>"
      ]
     },
     "execution_count": 9,
     "metadata": {},
     "output_type": "execute_result"
    },
    {
     "data": {
      "image/png": "[encoded data removed]",
      "text/plain": [
       "<Figure size 432x216 with 2 Axes>"
      ]
     },
     "metadata": {},
     "output_type": "display_data"
    }
   ],
   "source": [
    "bins2 = np.linspace(df2.age.min(), df2.age.max(), 10)\n",
    "sns.set()\n",
    "plot2 = sns.FacetGrid(df2, col = 'Gender', hue = 'loan_status', palette = 'Set2', col_wrap = 2)\n",
    "plot2.map(plt.hist, 'age', bins = bins2, ec ='k')\n",
    "\n",
    "plot2.axes[-1].legend()"
   ]
  },
  {
   "cell_type": "markdown",
   "metadata": {},
   "source": [
    "Tanto para homens como para mulheres parece que a inadimplência se concentra entre 20 e 30 anos"
   ]
  },
  {
   "cell_type": "markdown",
   "metadata": {},
   "source": [
    "** Dia da Semana em que os empréstimos são feitos **"
   ]
  },
  {
   "cell_type": "code",
   "execution_count": 10,
   "metadata": {},
   "outputs": [
    {
     "name": "stderr",
     "output_type": "stream",
     "text": [
      "D:\\Anaconda3\\lib\\site-packages\\ipykernel_launcher.py:1: SettingWithCopyWarning: \n",
      "A value is trying to be set on a copy of a slice from a DataFrame.\n",
      "Try using .loc[row_indexer,col_indexer] = value instead\n",
      "\n",
      "See the caveats in the documentation: http://pandas.pydata.org/pandas-docs/stable/indexing.html#indexing-view-versus-copy\n",
      "  \"\"\"Entry point for launching an IPython kernel.\n"
     ]
    },
    {
     "data": {
      "text/plain": [
       "<matplotlib.legend.Legend at 0x1a8a8cc12b0>"
      ]
     },
     "execution_count": 10,
     "metadata": {},
     "output_type": "execute_result"
    },
    {
     "data": {
      "image/png": "[encoded data removed]",
      "text/plain": [
       "<Figure size 432x216 with 2 Axes>"
      ]
     },
     "metadata": {},
     "output_type": "display_data"
    }
   ],
   "source": [
    "df2['dayofweek'] = df2.effective_date.dt.dayofweek\n",
    "bins3 = np.linspace(df2.dayofweek.min(), df2.dayofweek.max(), 10)\n",
    "\n",
    "sns.set()\n",
    "plot3 = sns.FacetGrid(df2, col = 'Gender', hue = 'loan_status', palette = 'Set2', col_wrap = 2)\n",
    "plot3.map(plt.hist, 'dayofweek', bins = bins3, ec = 'k')\n",
    "\n",
    "plot3.axes[-1].legend()"
   ]
  },
  {
   "cell_type": "markdown",
   "metadata": {},
   "source": [
    "Note que os empréstimos realizados no final de semana (entre 4 e 6) tendem a não ser pagos, segundo este dataset. Por isso, saber se o empréstimo foi realizado no final de semana ou não pode ser um parâmetro interessante:"
   ]
  },
  {
   "cell_type": "code",
   "execution_count": 11,
   "metadata": {},
   "outputs": [
    {
     "name": "stdout",
     "output_type": "stream",
     "text": [
      "  loan_status  Principal  terms effective_date   due_date  age  \\\n",
      "0     PAIDOFF       1000     30     2016-09-08 2016-10-07   45   \n",
      "1     PAIDOFF       1000     30     2016-09-08 2016-10-07   50   \n",
      "2     PAIDOFF       1000     30     2016-09-08 2016-10-07   33   \n",
      "3     PAIDOFF       1000     15     2016-09-08 2016-09-22   27   \n",
      "4     PAIDOFF       1000     30     2016-09-09 2016-10-08   28   \n",
      "\n",
      "              education  Gender  dayofweek  weekend  \n",
      "0  High School or Below       0          3        0  \n",
      "1              Bechalor       1          3        0  \n",
      "2              Bechalor       1          3        0  \n",
      "3               college       0          3        0  \n",
      "4               college       1          4        1  \n"
     ]
    },
    {
     "name": "stderr",
     "output_type": "stream",
     "text": [
      "D:\\Anaconda3\\lib\\site-packages\\ipykernel_launcher.py:1: SettingWithCopyWarning: \n",
      "A value is trying to be set on a copy of a slice from a DataFrame.\n",
      "Try using .loc[row_indexer,col_indexer] = value instead\n",
      "\n",
      "See the caveats in the documentation: http://pandas.pydata.org/pandas-docs/stable/indexing.html#indexing-view-versus-copy\n",
      "  \"\"\"Entry point for launching an IPython kernel.\n"
     ]
    }
   ],
   "source": [
    "df2['weekend'] = df2.dayofweek.apply(lambda x: 1 if (x>3) else 0)\n",
    "print(df2.head())"
   ]
  },
  {
   "cell_type": "markdown",
   "metadata": {},
   "source": [
    "** Distribuição da quantia de empréstimo por nível de escolaridade **"
   ]
  },
  {
   "cell_type": "code",
   "execution_count": 12,
   "metadata": {},
   "outputs": [
    {
     "data": {
      "text/plain": [
       "<matplotlib.legend.Legend at 0x1a8a8aa4940>"
      ]
     },
     "execution_count": 12,
     "metadata": {},
     "output_type": "execute_result"
    },
    {
     "data": {
      "image/png": "[encoded data removed]",
      "text/plain": [
       "<Figure size 432x432 with 4 Axes>"
      ]
     },
     "metadata": {},
     "output_type": "display_data"
    }
   ],
   "source": [
    "sns.set()\n",
    "plot4 = sns.FacetGrid(df2, col = 'education', hue = 'loan_status', palette = 'Set2', col_wrap = 2)\n",
    "plot4.map(plt.hist, 'Principal', bins = bins, ec = 'k')\n",
    "\n",
    "plot4.axes[1].legend()"
   ]
  },
  {
   "cell_type": "code",
   "execution_count": 13,
   "metadata": {},
   "outputs": [
    {
     "data": {
      "text/plain": [
       "education             loan_status\n",
       "Bechalor              PAIDOFF        0.788462\n",
       "                      COLLECTION     0.211538\n",
       "High School or Below  PAIDOFF        0.715116\n",
       "                      COLLECTION     0.284884\n",
       "Master or Above       PAIDOFF        0.750000\n",
       "                      COLLECTION     0.250000\n",
       "college               PAIDOFF        0.773256\n",
       "                      COLLECTION     0.226744\n",
       "Name: loan_status, dtype: float64"
      ]
     },
     "execution_count": 13,
     "metadata": {},
     "output_type": "execute_result"
    }
   ],
   "source": [
    "df2.groupby('education')['loan_status'].value_counts(normalize = True) #contagem normalizada do status do empréstimo agrupada por nível de escolaridade"
   ]
  },
  {
   "cell_type": "markdown",
   "metadata": {},
   "source": [
    "A escolaridade também parece ser um critério interessante"
   ]
  },
  {
   "cell_type": "code",
   "execution_count": 14,
   "metadata": {},
   "outputs": [
    {
     "name": "stdout",
     "output_type": "stream",
     "text": [
      "   Bechalor  High School or Below  Master or Above  college\n",
      "0         0                     1                0        0\n",
      "1         1                     0                0        0\n",
      "2         1                     0                0        0\n",
      "3         0                     0                0        1\n",
      "4         0                     0                0        1\n",
      "  loan_status  Principal  terms effective_date   due_date  age  Gender  \\\n",
      "0     PAIDOFF       1000     30     2016-09-08 2016-10-07   45       0   \n",
      "1     PAIDOFF       1000     30     2016-09-08 2016-10-07   50       1   \n",
      "2     PAIDOFF       1000     30     2016-09-08 2016-10-07   33       1   \n",
      "3     PAIDOFF       1000     15     2016-09-08 2016-09-22   27       0   \n",
      "4     PAIDOFF       1000     30     2016-09-09 2016-10-08   28       1   \n",
      "\n",
      "   dayofweek  weekend  Bechalor  High School or Below  Master or Above  \\\n",
      "0          3        0         0                     1                0   \n",
      "1          3        0         1                     0                0   \n",
      "2          3        0         1                     0                0   \n",
      "3          3        0         0                     0                0   \n",
      "4          4        1         0                     0                0   \n",
      "\n",
      "   college  \n",
      "0        0  \n",
      "1        0  \n",
      "2        0  \n",
      "3        1  \n",
      "4        1  \n"
     ]
    }
   ],
   "source": [
    "education = pd.get_dummies(df2.education) #transforma as variáveis categóricas da coluna education em atributos binários\n",
    "\n",
    "df2 = pd.concat([df2, education], axis = 1)\n",
    "df2.drop(columns = 'education', inplace = True)\n",
    "\n",
    "print(education.head())\n",
    "print(df2.head())"
   ]
  },
  {
   "cell_type": "markdown",
   "metadata": {},
   "source": [
    "** Distribuição da quantia de empréstimo por vencimento **"
   ]
  },
  {
   "cell_type": "code",
   "execution_count": 15,
   "metadata": {},
   "outputs": [
    {
     "data": {
      "text/plain": [
       "<matplotlib.legend.Legend at 0x1a8a8f26048>"
      ]
     },
     "execution_count": 15,
     "metadata": {},
     "output_type": "execute_result"
    },
    {
     "data": {
      "image/png": "[encoded data removed]",
      "text/plain": [
       "<Figure size 432x432 with 3 Axes>"
      ]
     },
     "metadata": {},
     "output_type": "display_data"
    }
   ],
   "source": [
    "sns.set()\n",
    "plot5 = sns.FacetGrid(df2, col = 'terms', hue = 'loan_status',palette = 'Set2', col_wrap = 2)\n",
    "plot5.map(plt.hist, 'Principal', bins = bins, ec = 'k')\n",
    "\n",
    "plot5.axes[1].legend()"
   ]
  },
  {
   "cell_type": "code",
   "execution_count": 16,
   "metadata": {},
   "outputs": [
    {
     "data": {
      "text/plain": [
       "terms  loan_status\n",
       "7      PAIDOFF        1.000000\n",
       "15     PAIDOFF        0.755952\n",
       "       COLLECTION     0.244048\n",
       "30     PAIDOFF        0.721698\n",
       "       COLLECTION     0.278302\n",
       "Name: loan_status, dtype: float64"
      ]
     },
     "execution_count": 16,
     "metadata": {},
     "output_type": "execute_result"
    }
   ],
   "source": [
    "df2.groupby('terms')['loan_status'].value_counts(normalize = True) #contagem normalizada os status de empréstimo agrupadas por termos"
   ]
  },
  {
   "cell_type": "markdown",
   "metadata": {},
   "source": [
    "Os termos do empréstimo também parece ser importante, com atenção especial para os empréstimos semanais que, segundo o dataset, são sempre pagos."
   ]
  },
  {
   "cell_type": "markdown",
   "metadata": {},
   "source": [
    "Dadas as considerações anteriores, os parâmetros selecionados para modelagem serão:\n",
    "\n",
    "* Principal\n",
    "* terms\n",
    "* age\n",
    "* Gender\n",
    "* weekend\n",
    "* Nível de educação\n"
   ]
  },
  {
   "cell_type": "code",
   "execution_count": 17,
   "metadata": {},
   "outputs": [
    {
     "name": "stdout",
     "output_type": "stream",
     "text": [
      "   Principal  terms  age  Gender  weekend  Bechalor  High School or Below  \\\n",
      "0       1000     30   45       0        0         0                     1   \n",
      "1       1000     30   50       1        0         1                     0   \n",
      "2       1000     30   33       1        0         1                     0   \n",
      "3       1000     15   27       0        0         0                     0   \n",
      "4       1000     30   28       1        1         0                     0   \n",
      "\n",
      "   Master or Above  college  \n",
      "0                0        0  \n",
      "1                0        0  \n",
      "2                0        0  \n",
      "3                0        1  \n",
      "4                0        1  \n"
     ]
    }
   ],
   "source": [
    "features  = df2.drop(columns = ['loan_status', 'effective_date', 'due_date', 'dayofweek'])\n",
    "\n",
    "print(features.head())"
   ]
  },
  {
   "cell_type": "markdown",
   "metadata": {},
   "source": [
    "Assim:"
   ]
  },
  {
   "cell_type": "code",
   "execution_count": 26,
   "metadata": {},
   "outputs": [
    {
     "name": "stdout",
     "output_type": "stream",
     "text": [
      "   Principal  terms  age  Gender  weekend  Bechalor  High School or Below  \\\n",
      "0       1000     30   45       0        0         0                     1   \n",
      "1       1000     30   50       1        0         1                     0   \n",
      "2       1000     30   33       1        0         1                     0   \n",
      "3       1000     15   27       0        0         0                     0   \n",
      "4       1000     30   28       1        1         0                     0   \n",
      "\n",
      "   Master or Above  college  \n",
      "0                0        0  \n",
      "1                0        0  \n",
      "2                0        0  \n",
      "3                0        1  \n",
      "4                0        1  \n",
      "[1 1 1 1 1]\n"
     ]
    }
   ],
   "source": [
    "X = features\n",
    "\n",
    "df2.replace(to_replace = ['PAIDOFF', 'COLLECTION'], value = [1,0], inplace = True) #PAIDOFF = 1; COLLECTION = 0\n",
    "y = df2.loan_status.values\n",
    "\n",
    "print(X.head())\n",
    "print(y[0:5])"
   ]
  },
  {
   "cell_type": "markdown",
   "metadata": {},
   "source": [
    "# Normalização, treino e teste"
   ]
  },
  {
   "cell_type": "code",
   "execution_count": 19,
   "metadata": {},
   "outputs": [
    {
     "name": "stdout",
     "output_type": "stream",
     "text": [
      "[[ 0.50130175  0.92089421  2.31334964 -0.43236977 -1.21838912 -0.38655567\n",
      "   1.15133896 -0.10050378 -0.86855395]\n",
      " [ 0.50130175  0.92089421  3.14310202  2.31283513 -1.21838912  2.5869495\n",
      "  -0.86855395 -0.10050378 -0.86855395]\n",
      " [ 0.50130175  0.92089421  0.32194392  2.31283513 -1.21838912  2.5869495\n",
      "  -0.86855395 -0.10050378 -0.86855395]\n",
      " [ 0.50130175 -0.9332552  -0.67375893 -0.43236977 -1.21838912 -0.38655567\n",
      "  -0.86855395 -0.10050378  1.15133896]\n",
      " [ 0.50130175  0.92089421 -0.50780846  2.31283513  0.82075585 -0.38655567\n",
      "  -0.86855395 -0.10050378  1.15133896]]\n"
     ]
    }
   ],
   "source": [
    "X = preprocessing.StandardScaler().fit(X).transform(X.astype(float)) #padronizando os dados eles ganham média zero e variação unitária\n",
    "\n",
    "print(X[0:5])"
   ]
  },
  {
   "cell_type": "code",
   "execution_count": 31,
   "metadata": {},
   "outputs": [
    {
     "name": "stdout",
     "output_type": "stream",
     "text": [
      "Forma dos daos de treino: (280, 9) (280,)\n",
      "Forma dos dados de teste:  (120, 9) (120,)\n"
     ]
    }
   ],
   "source": [
    "from sklearn.model_selection import train_test_split\n",
    "X_train, X_test, y_train, y_test = train_test_split(X, y, test_size = 0.3, random_state = 4) #divide os dados em treino(70%) e teste(30%)\n",
    "\n",
    "print('Forma dos daos de treino:', X_train.shape, y_train.shape)\n",
    "print('Forma dos dados de teste: ', X_test.shape, y_test.shape)"
   ]
  },
  {
   "cell_type": "code",
   "execution_count": 32,
   "metadata": {},
   "outputs": [],
   "source": [
    "from sklearn.neighbors import KNeighborsClassifier"
   ]
  },
  {
   "cell_type": "markdown",
   "metadata": {},
   "source": [
    "** Treino **"
   ]
  },
  {
   "cell_type": "code",
   "execution_count": 73,
   "metadata": {},
   "outputs": [
    {
     "data": {
      "text/plain": [
       "KNeighborsClassifier(algorithm='auto', leaf_size=30, metric='minkowski',\n",
       "           metric_params=None, n_jobs=1, n_neighbors=5, p=2,\n",
       "           weights='uniform')"
      ]
     },
     "execution_count": 73,
     "metadata": {},
     "output_type": "execute_result"
    }
   ],
   "source": [
    "k = 5\n",
    "loan_knn = KNeighborsClassifier(n_neighbors = k).fit(X_train, y_train) #cria modelo com métrica Minkowski e k = k \n",
    "loan_knn"
   ]
  },
  {
   "cell_type": "markdown",
   "metadata": {},
   "source": [
    "** Teste **"
   ]
  },
  {
   "cell_type": "code",
   "execution_count": 74,
   "metadata": {},
   "outputs": [
    {
     "name": "stdout",
     "output_type": "stream",
     "text": [
      "[1 0 1 1 1]\n"
     ]
    }
   ],
   "source": [
    "yhat = loan_knn.predict(X_test) #faz predições com o modelo treinado \n",
    "\n",
    "print(yhat[0:5])"
   ]
  },
  {
   "cell_type": "markdown",
   "metadata": {},
   "source": [
    "** Avaliação **"
   ]
  },
  {
   "cell_type": "code",
   "execution_count": 95,
   "metadata": {},
   "outputs": [
    {
     "name": "stdout",
     "output_type": "stream",
     "text": [
      "Pontuações de traino: \n",
      " \t Precisão [0.68292683 0.82008368] média:  0.7515052556383305 \n",
      " \t Recall: [0.3943662  0.93779904] média 0.6660826201226497 \n",
      " \t F1-Score [0.5   0.875] média 0.6875\n",
      "\n",
      "Pontuações de teste: \n",
      " \t Precisão [0.4        0.78095238] média:  0.5904761904761905 \n",
      " \t Recall: [0.20689655 0.9010989 ] média 0.5539977264115196 \n",
      " \t F1-Score [0.27272727 0.83673469] média 0.5547309833024119\n"
     ]
    }
   ],
   "source": [
    "from sklearn import metrics\n",
    "train_precision_score = metrics.precision_score(y_train, loan_knn.predict(X_train), average = None) #Calcula precisão no TrainSet\n",
    "train_recall_score = metrics.recall_score(y_train, loan_knn.predict(X_train), average = None) #Calcula recall no TrainSet\n",
    "train_score = metrics.f1_score(y_train, loan_knn.predict(X_train), average = None) #Calcula F1-Score no TrainSet\n",
    "\n",
    "test_precision_score = metrics.precision_score(y_test, yhat, average = None) #Calcula precisão no TestnSet\n",
    "test_recall_score = metrics.recall_score(y_test, yhat, average = None) #Calcula recall no TestSet\n",
    "test_score = metrics.f1_score(y_test, yhat, average = None) #Calcula F1-Score no TestSet\n",
    "\n",
    "print('Pontuações de treino:', \n",
    "      '\\n \\t Precisão', train_precision_score, 'média: ', train_precision_score.mean(),\n",
    "      '\\n \\t Recall:', train_recall_score, 'média', train_recall_score.mean(),\n",
    "      '\\n \\t F1-Score', train_score, 'média', train_score.mean())\n",
    "\n",
    "print('\\nPontuações de teste:', \n",
    "      '\\n \\t Precisão', test_precision_score, 'média: ', test_precision_score.mean(),\n",
    "      '\\n \\t Recall:', test_recall_score, 'média', test_recall_score.mean(),\n",
    "      '\\n \\t F1-Score', test_score, 'média', test_score.mean())"
   ]
  },
  {
   "cell_type": "markdown",
   "metadata": {},
   "source": [
    "# Avaliação para diferentes valores de 'k'"
   ]
  },
  {
   "cell_type": "markdown",
   "metadata": {},
   "source": [
    "A seção anterior considerou apenas um valor de 'k'. Como se comportam as pontuações para diferentes valores de k"
   ]
  },
  {
   "cell_type": "code",
   "execution_count": 114,
   "metadata": {},
   "outputs": [
    {
     "name": "stdout",
     "output_type": "stream",
     "text": [
      "[ 1  2  3  4  5  6  7  8  9 10 11 12 13 14 15 16 17 18 19 20]\n"
     ]
    }
   ],
   "source": [
    "ks = np.arange(1, 21, 1)\n",
    "\n",
    "print(ks)"
   ]
  },
  {
   "cell_type": "code",
   "execution_count": 115,
   "metadata": {},
   "outputs": [
    {
     "name": "stdout",
     "output_type": "stream",
     "text": [
      "\n",
      " KNeighborsClassifier(algorithm='auto', leaf_size=30, metric='minkowski',\n",
      "           metric_params=None, n_jobs=1, n_neighbors=1, p=2,\n",
      "           weights='uniform')\n",
      "Pontuações de treino: \n",
      " \t Precisão [0.77142857 0.91904762] média:  0.8452380952380952 \n",
      " \t Recall: [0.76056338 0.92344498] média 0.8420041781791225 \n",
      " \t F1-Score [0.76595745 0.92124105] média 0.8435992484639212\n",
      "\n",
      "Pontuações de teste: \n",
      " \t Precisão [0.19512195 0.73417722] média:  0.46464958320469285 \n",
      " \t Recall: [0.27586207 0.63736264] média 0.4566123531640773 \n",
      " \t F1-Score [0.22857143 0.68235294] média 0.4554621848739496\n",
      "\n",
      " KNeighborsClassifier(algorithm='auto', leaf_size=30, metric='minkowski',\n",
      "           metric_params=None, n_jobs=1, n_neighbors=2, p=2,\n",
      "           weights='uniform')\n",
      "Pontuações de treino: \n",
      " \t Precisão [0.5546875 1.       ] média:  0.77734375 \n",
      " \t Recall: [1.         0.72727273] média 0.8636363636363636 \n",
      " \t F1-Score [0.71356784 0.84210526] média 0.7778365511769374\n",
      "\n",
      "Pontuações de teste: \n",
      " \t Precisão [0.23529412 0.75      ] média:  0.49264705882352944 \n",
      " \t Recall: [0.55172414 0.42857143] média 0.49014778325123154 \n",
      " \t F1-Score [0.32989691 0.54545455] média 0.4376757263355201\n",
      "\n",
      " KNeighborsClassifier(algorithm='auto', leaf_size=30, metric='minkowski',\n",
      "           metric_params=None, n_jobs=1, n_neighbors=3, p=2,\n",
      "           weights='uniform')\n",
      "Pontuações de treino: \n",
      " \t Precisão [0.73684211 0.86995516] média:  0.8033986311069152 \n",
      " \t Recall: [0.5915493  0.92822967] média 0.759889480423209 \n",
      " \t F1-Score [0.65625    0.89814815] média 0.777199074074074\n",
      "\n",
      "Pontuações de teste: \n",
      " \t Precisão [0.20833333 0.75      ] média:  0.4791666666666667 \n",
      " \t Recall: [0.17241379 0.79120879] média 0.48181129215611973 \n",
      " \t F1-Score [0.18867925 0.77005348] média 0.47936636060942395\n",
      "\n",
      " KNeighborsClassifier(algorithm='auto', leaf_size=30, metric='minkowski',\n",
      "           metric_params=None, n_jobs=1, n_neighbors=4, p=2,\n",
      "           weights='uniform')\n",
      "Pontuações de treino: \n",
      " \t Precisão [0.63953488 0.91752577] média:  0.7785303284584033 \n",
      " \t Recall: [0.77464789 0.85167464] média 0.8131612642361346 \n",
      " \t F1-Score [0.70063694 0.88337469] média 0.7920058162507309\n",
      "\n",
      "Pontuações de teste: \n",
      " \t Precisão [0.27272727 0.77631579] média:  0.5245215311004785 \n",
      " \t Recall: [0.4137931  0.64835165] média 0.5310723758999621 \n",
      " \t F1-Score [0.32876712 0.70658683] média 0.5176769748174883\n",
      "\n",
      " KNeighborsClassifier(algorithm='auto', leaf_size=30, metric='minkowski',\n",
      "           metric_params=None, n_jobs=1, n_neighbors=5, p=2,\n",
      "           weights='uniform')\n",
      "Pontuações de treino: \n",
      " \t Precisão [0.68292683 0.82008368] média:  0.7515052556383305 \n",
      " \t Recall: [0.3943662  0.93779904] média 0.6660826201226497 \n",
      " \t F1-Score [0.5   0.875] média 0.6875\n",
      "\n",
      "Pontuações de teste: \n",
      " \t Precisão [0.4        0.78095238] média:  0.5904761904761905 \n",
      " \t Recall: [0.20689655 0.9010989 ] média 0.5539977264115196 \n",
      " \t F1-Score [0.27272727 0.83673469] média 0.5547309833024119\n",
      "\n",
      " KNeighborsClassifier(algorithm='auto', leaf_size=30, metric='minkowski',\n",
      "           metric_params=None, n_jobs=1, n_neighbors=6, p=2,\n",
      "           weights='uniform')\n",
      "Pontuações de treino: \n",
      " \t Precisão [0.56140351 0.82511211] média:  0.6932578081976242 \n",
      " \t Recall: [0.45070423 0.88038278] média 0.665543500235865 \n",
      " \t F1-Score [0.5        0.85185185] média 0.675925925925926\n",
      "\n",
      "Pontuações de teste: \n",
      " \t Precisão [0.32142857 0.7826087 ] média:  0.5520186335403727 \n",
      " \t Recall: [0.31034483 0.79120879] média 0.5507768093974991 \n",
      " \t F1-Score [0.31578947 0.78688525] média 0.551337359792925\n",
      "\n",
      " KNeighborsClassifier(algorithm='auto', leaf_size=30, metric='minkowski',\n",
      "           metric_params=None, n_jobs=1, n_neighbors=7, p=2,\n",
      "           weights='uniform')\n",
      "Pontuações de treino: \n",
      " \t Precisão [0.62962963 0.78656126] média:  0.708095447225882 \n",
      " \t Recall: [0.23943662 0.95215311] média 0.5957948648830783 \n",
      " \t F1-Score [0.34693878 0.86147186] média 0.6042053184910328\n",
      "\n",
      "Pontuações de teste: \n",
      " \t Precisão [0.27272727 0.76146789] média:  0.5170975813177647 \n",
      " \t Recall: [0.10344828 0.91208791] média 0.5077680939749906 \n",
      " \t F1-Score [0.15 0.83] média 0.49000000000000005\n",
      "\n",
      " KNeighborsClassifier(algorithm='auto', leaf_size=30, metric='minkowski',\n",
      "           metric_params=None, n_jobs=1, n_neighbors=8, p=2,\n",
      "           weights='uniform')\n",
      "Pontuações de treino: \n",
      " \t Precisão [0.61904762 0.81092437] média:  0.7149859943977591 \n",
      " \t Recall: [0.36619718 0.92344498] média 0.6448210795875733 \n",
      " \t F1-Score [0.46017699 0.86353468] média 0.6618558333828275\n",
      "\n",
      "Pontuações de teste: \n",
      " \t Precisão [0.38095238 0.78787879] média:  0.5844155844155844 \n",
      " \t Recall: [0.27586207 0.85714286] média 0.5665024630541872 \n",
      " \t F1-Score [0.32       0.82105263] média 0.5705263157894737\n",
      "\n",
      " KNeighborsClassifier(algorithm='auto', leaf_size=30, metric='minkowski',\n",
      "           metric_params=None, n_jobs=1, n_neighbors=9, p=2,\n",
      "           weights='uniform')\n",
      "Pontuações de treino: \n",
      " \t Precisão [0.53333333 0.78      ] média:  0.6566666666666667 \n",
      " \t Recall: [0.22535211 0.93301435] média 0.579183233371521 \n",
      " \t F1-Score [0.31683168 0.8496732 ] média 0.5832524428913479\n",
      "\n",
      "Pontuações de teste: \n",
      " \t Precisão [0.36363636 0.7706422 ] média:  0.567139282735613 \n",
      " \t Recall: [0.13793103 0.92307692] média 0.5305039787798409 \n",
      " \t F1-Score [0.2  0.84] média 0.52\n",
      "\n",
      " KNeighborsClassifier(algorithm='auto', leaf_size=30, metric='minkowski',\n",
      "           metric_params=None, n_jobs=1, n_neighbors=10, p=2,\n",
      "           weights='uniform')\n",
      "Pontuações de treino: \n",
      " \t Precisão [0.52777778 0.78688525] média:  0.6573315118397085 \n",
      " \t Recall: [0.26760563 0.91866029] média 0.5931329604420783 \n",
      " \t F1-Score [0.35514019 0.84768212] média 0.601411153060593\n",
      "\n",
      "Pontuações de teste: \n",
      " \t Precisão [0.4375     0.78846154] média:  0.6129807692307692 \n",
      " \t Recall: [0.24137931 0.9010989 ] média 0.5712391057218643 \n",
      " \t F1-Score [0.31111111 0.84102564] média 0.576068376068376\n",
      "\n",
      " KNeighborsClassifier(algorithm='auto', leaf_size=30, metric='minkowski',\n",
      "           metric_params=None, n_jobs=1, n_neighbors=11, p=2,\n",
      "           weights='uniform')\n",
      "Pontuações de treino: \n",
      " \t Precisão [0.47058824 0.76045627] média:  0.6155222545291881 \n",
      " \t Recall: [0.11267606 0.9569378 ] média 0.5348069276905452 \n",
      " \t F1-Score [0.18181818 0.84745763] média 0.514637904468413\n",
      "\n",
      "Pontuações de teste: \n",
      " \t Precisão [0.85714286 0.79646018] média:  0.8268015170670038 \n",
      " \t Recall: [0.20689655 0.98901099] média 0.5979537703675635 \n",
      " \t F1-Score [0.33333333 0.88235294] média 0.607843137254902\n",
      "\n",
      " KNeighborsClassifier(algorithm='auto', leaf_size=30, metric='minkowski',\n",
      "           metric_params=None, n_jobs=1, n_neighbors=12, p=2,\n",
      "           weights='uniform')\n",
      "Pontuações de treino: \n",
      " \t Precisão [0.47368421 0.76245211] média:  0.6180681589030046 \n",
      " \t Recall: [0.12676056 0.95215311] média 0.5394568367140643 \n",
      " \t F1-Score [0.2        0.84680851] média 0.5234042553191489\n",
      "\n",
      "Pontuações de teste: \n",
      " \t Precisão [0.66666667 0.79279279] média:  0.7297297297297297 \n",
      " \t Recall: [0.20689655 0.96703297] média 0.5869647593785525 \n",
      " \t F1-Score [0.31578947 0.87128713] média 0.5935383011985409\n",
      "\n",
      " KNeighborsClassifier(algorithm='auto', leaf_size=30, metric='minkowski',\n",
      "           metric_params=None, n_jobs=1, n_neighbors=13, p=2,\n",
      "           weights='uniform')\n",
      "Pontuações de treino: \n",
      " \t Precisão [0.5625     0.76515152] média:  0.6638257575757576 \n",
      " \t Recall: [0.12676056 0.96650718] média 0.5466338702068873 \n",
      " \t F1-Score [0.20689655 0.85412262] média 0.53050958664431\n",
      "\n",
      "Pontuações de teste: \n",
      " \t Precisão [0.8       0.7826087] média:  0.791304347826087 \n",
      " \t Recall: [0.13793103 0.98901099] média 0.5634710117468739 \n",
      " \t F1-Score [0.23529412 0.87378641] média 0.5545402627070246\n",
      "\n",
      " KNeighborsClassifier(algorithm='auto', leaf_size=30, metric='minkowski',\n",
      "           metric_params=None, n_jobs=1, n_neighbors=14, p=2,\n",
      "           weights='uniform')\n",
      "Pontuações de treino: \n",
      " \t Precisão [0.5        0.76136364] média:  0.6306818181818181 \n",
      " \t Recall: [0.11267606 0.96172249] média 0.5371992721881529 \n",
      " \t F1-Score [0.18390805 0.84989429] média 0.5169011688658842\n",
      "\n",
      "Pontuações de teste: \n",
      " \t Precisão [0.57142857 0.77876106] média:  0.6750948166877371 \n",
      " \t Recall: [0.13793103 0.96703297] média 0.5524820007578628 \n",
      " \t F1-Score [0.22222222 0.8627451 ] média 0.5424836601307189\n",
      "\n",
      " KNeighborsClassifier(algorithm='auto', leaf_size=30, metric='minkowski',\n",
      "           metric_params=None, n_jobs=1, n_neighbors=15, p=2,\n",
      "           weights='uniform')\n",
      "Pontuações de treino: \n",
      " \t Precisão [0.6        0.75925926] média:  0.6796296296296296 \n",
      " \t Recall: [0.08450704 0.98086124] média 0.53268414313633 \n",
      " \t F1-Score [0.14814815 0.8559499 ] média 0.5020490218820073\n",
      "\n",
      "Pontuações de teste: \n",
      " \t Precisão [1.         0.76470588] média:  0.8823529411764706 \n",
      " \t Recall: [0.03448276 1.        ] média 0.5172413793103449 \n",
      " \t F1-Score [0.06666667 0.86666667] média 0.4666666666666666\n",
      "\n",
      " KNeighborsClassifier(algorithm='auto', leaf_size=30, metric='minkowski',\n",
      "           metric_params=None, n_jobs=1, n_neighbors=16, p=2,\n",
      "           weights='uniform')\n",
      "Pontuações de treino: \n",
      " \t Precisão [0.33333333 0.74907749] média:  0.5412054120541205 \n",
      " \t Recall: [0.04225352 0.97129187] média 0.5067726935777344 \n",
      " \t F1-Score [0.075      0.84583333] média 0.46041666666666664\n",
      "\n",
      "Pontuações de teste: \n",
      " \t Precisão [0.5        0.76724138] média:  0.6336206896551724 \n",
      " \t Recall: [0.06896552 0.97802198] média 0.5234937476316787 \n",
      " \t F1-Score [0.12121212 0.85990338] média 0.49055775142731667\n",
      "\n",
      " KNeighborsClassifier(algorithm='auto', leaf_size=30, metric='minkowski',\n",
      "           metric_params=None, n_jobs=1, n_neighbors=17, p=2,\n",
      "           weights='uniform')\n"
     ]
    },
    {
     "name": "stdout",
     "output_type": "stream",
     "text": [
      "Pontuações de treino: \n",
      " \t Precisão [0.6        0.75925926] média:  0.6796296296296296 \n",
      " \t Recall: [0.08450704 0.98086124] média 0.53268414313633 \n",
      " \t F1-Score [0.14814815 0.8559499 ] média 0.5020490218820073\n",
      "\n",
      "Pontuações de teste: \n",
      " \t Precisão [1.         0.77777778] média:  0.8888888888888888 \n",
      " \t Recall: [0.10344828 1.        ] média 0.5517241379310345 \n",
      " \t F1-Score [0.1875 0.875 ] média 0.53125\n",
      "\n",
      " KNeighborsClassifier(algorithm='auto', leaf_size=30, metric='minkowski',\n",
      "           metric_params=None, n_jobs=1, n_neighbors=18, p=2,\n",
      "           weights='uniform')\n",
      "Pontuações de treino: \n",
      " \t Precisão [0.66666667 0.7601476 ] média:  0.7134071340713407 \n",
      " \t Recall: [0.08450704 0.98564593] média 0.5350764876339376 \n",
      " \t F1-Score [0.15       0.85833333] média 0.5041666666666667\n",
      "\n",
      "Pontuações de teste: \n",
      " \t Precisão [0.75       0.77586207] média:  0.7629310344827587 \n",
      " \t Recall: [0.10344828 0.98901099] média 0.546229632436529 \n",
      " \t F1-Score [0.18181818 0.86956522] média 0.525691699604743\n",
      "\n",
      " KNeighborsClassifier(algorithm='auto', leaf_size=30, metric='minkowski',\n",
      "           metric_params=None, n_jobs=1, n_neighbors=19, p=2,\n",
      "           weights='uniform')\n",
      "Pontuações de treino: \n",
      " \t Precisão [0.66666667 0.7601476 ] média:  0.7134071340713407 \n",
      " \t Recall: [0.08450704 0.98564593] média 0.5350764876339376 \n",
      " \t F1-Score [0.15       0.85833333] média 0.5041666666666667\n",
      "\n",
      "Pontuações de teste: \n",
      " \t Precisão [1.         0.76470588] média:  0.8823529411764706 \n",
      " \t Recall: [0.03448276 1.        ] média 0.5172413793103449 \n",
      " \t F1-Score [0.06666667 0.86666667] média 0.4666666666666666\n",
      "\n",
      " KNeighborsClassifier(algorithm='auto', leaf_size=30, metric='minkowski',\n",
      "           metric_params=None, n_jobs=1, n_neighbors=20, p=2,\n",
      "           weights='uniform')\n",
      "Pontuações de treino: \n",
      " \t Precisão [0.625      0.75735294] média:  0.6911764705882353 \n",
      " \t Recall: [0.07042254 0.98564593] média 0.5280342341128108 \n",
      " \t F1-Score [0.12658228 0.85654886] média 0.49156556751493463\n",
      "\n",
      "Pontuações de teste: \n",
      " \t Precisão [1.         0.76470588] média:  0.8823529411764706 \n",
      " \t Recall: [0.03448276 1.        ] média 0.5172413793103449 \n",
      " \t F1-Score [0.06666667 0.86666667] média 0.4666666666666666\n"
     ]
    }
   ],
   "source": [
    "train_precision_mean = []\n",
    "test_precision_mean = []\n",
    "\n",
    "for k in ks: #treina, calcula e computa a classificação para doferentes valore k contidos em ks\n",
    "    loan_knn = KNeighborsClassifier(n_neighbors = k).fit(X_train, y_train)\n",
    "    print('\\n', loan_knn)\n",
    "    \n",
    "    yhat = loan_knn.predict(X_test)\n",
    "    \n",
    "    train_precision_score = metrics.precision_score(y_train, loan_knn.predict(X_train), average = None) #Calcula precisão no TrainSet\n",
    "    train_recall_score = metrics.recall_score(y_train, loan_knn.predict(X_train), average = None) #Calcula recall no TrainSet\n",
    "    train_score = metrics.f1_score(y_train, loan_knn.predict(X_train), average = None) #Calcula F1-Score no TrainSet\n",
    "\n",
    "    test_precision_score = metrics.precision_score(y_test, yhat, average = None) #Calcula precisão no TestnSet\n",
    "    test_recall_score = metrics.recall_score(y_test, yhat, average = None) #Calcula recall no TestSet\n",
    "    test_score = metrics.f1_score(y_test, yhat, average = None) #Calcula F1-Score no TestSet\n",
    "\n",
    "    print('Pontuações de treino:', \n",
    "      '\\n \\t Precisão', train_precision_score, 'média: ', train_precision_score.mean(),\n",
    "      '\\n \\t Recall:', train_recall_score, 'média', train_recall_score.mean(),\n",
    "      '\\n \\t F1-Score', train_score, 'média', train_score.mean())\n",
    "\n",
    "    print('\\nPontuações de teste:', \n",
    "      '\\n \\t Precisão', test_precision_score, 'média: ', test_precision_score.mean(),\n",
    "      '\\n \\t Recall:', test_recall_score, 'média', test_recall_score.mean(),\n",
    "      '\\n \\t F1-Score', test_score, 'média', test_score.mean())\n",
    "    \n",
    "    train_precision_mean.append(train_precision_score.mean())\n",
    "    test_precision_mean.append(test_precision_score.mean())"
   ]
  },
  {
   "cell_type": "code",
   "execution_count": 116,
   "metadata": {},
   "outputs": [
    {
     "name": "stdout",
     "output_type": "stream",
     "text": [
      "[0.8452380952380952, 0.77734375, 0.8033986311069152, 0.7785303284584033, 0.7515052556383305, 0.6932578081976242, 0.708095447225882, 0.7149859943977591, 0.6566666666666667, 0.6573315118397085, 0.6155222545291881, 0.6180681589030046, 0.6638257575757576, 0.6306818181818181, 0.6796296296296296, 0.5412054120541205, 0.6796296296296296, 0.7134071340713407, 0.7134071340713407, 0.6911764705882353]\n",
      "[0.46464958320469285, 0.49264705882352944, 0.4791666666666667, 0.5245215311004785, 0.5904761904761905, 0.5520186335403727, 0.5170975813177647, 0.5844155844155844, 0.567139282735613, 0.6129807692307692, 0.8268015170670038, 0.7297297297297297, 0.791304347826087, 0.6750948166877371, 0.8823529411764706, 0.6336206896551724, 0.8888888888888888, 0.7629310344827587, 0.8823529411764706, 0.8823529411764706]\n"
     ]
    }
   ],
   "source": [
    "print(train_precision_mean)\n",
    "print(test_precision_mean)"
   ]
  },
  {
   "cell_type": "code",
   "execution_count": 117,
   "metadata": {},
   "outputs": [
    {
     "name": "stdout",
     "output_type": "stream",
     "text": [
      "     k  train_precision_mean  test_precision_mean\n",
      "0    1              0.845238             0.464650\n",
      "1    2              0.777344             0.492647\n",
      "2    3              0.803399             0.479167\n",
      "3    4              0.778530             0.524522\n",
      "4    5              0.751505             0.590476\n",
      "5    6              0.693258             0.552019\n",
      "6    7              0.708095             0.517098\n",
      "7    8              0.714986             0.584416\n",
      "8    9              0.656667             0.567139\n",
      "9   10              0.657332             0.612981\n",
      "10  11              0.615522             0.826802\n",
      "11  12              0.618068             0.729730\n",
      "12  13              0.663826             0.791304\n",
      "13  14              0.630682             0.675095\n",
      "14  15              0.679630             0.882353\n",
      "15  16              0.541205             0.633621\n",
      "16  17              0.679630             0.888889\n",
      "17  18              0.713407             0.762931\n",
      "18  19              0.713407             0.882353\n",
      "19  20              0.691176             0.882353\n"
     ]
    }
   ],
   "source": [
    "precision_mean = {'k': ks,\n",
    "                  'train_precision_mean': train_precision_mean,\n",
    "                  'test_precision_mean': test_precision_mean}\n",
    "\n",
    "precision_mean = pd.DataFrame(precision_mean)\n",
    "\n",
    "print(precision_mean)"
   ]
  },
  {
   "cell_type": "code",
   "execution_count": 118,
   "metadata": {},
   "outputs": [
    {
     "data": {
      "image/png": "[encoded data removed]",
      "text/plain": [
       "<Figure size 432x288 with 1 Axes>"
      ]
     },
     "metadata": {},
     "output_type": "display_data"
    }
   ],
   "source": [
    "sns.set()\n",
    "\n",
    "plot_precision = precision_mean.plot(kind = 'line', x = 'k')"
   ]
  },
  {
   "cell_type": "code",
   "execution_count": null,
   "metadata": {},
   "outputs": [],
   "source": []
  }
 ],
 "metadata": {
  "kernelspec": {
   "display_name": "Python 3",
   "language": "python",
   "name": "python3"
  },
  "language_info": {
   "codemirror_mode": {
    "name": "ipython",
    "version": 3
   },
   "file_extension": ".py",
   "mimetype": "text/x-python",
   "name": "python",
   "nbconvert_exporter": "python",
   "pygments_lexer": "ipython3",
   "version": "3.6.5"
  }
 },
 "nbformat": 4,
 "nbformat_minor": 2
}
