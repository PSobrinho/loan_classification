{
 "cells": [
  {
   "cell_type": "markdown",
   "metadata": {},
   "source": [
    "# Classificador de empréstimo (loanKNN)\n",
    "\n",
    "Usando o PyData Stack e o SKLearn será treinado e avaliado um modelo preditivo de classificação com objetivo de ajudar na tomada de decisão para concessão de empréstimos. O DataSample vem do dataset [Loan Data](https://www.kaggle.com/zhijinzhai/loandata) disponível no Kaggle, está estruturado da seguinte forma:\n",
    "\n",
    "* Loan_id: Valor unico que identifica cada cliente de empréstimo;\n",
    "\n",
    "* Loan_status: Se o empréstimo foi pago (PAIDOFF) ou está em cobrança (COLLECTION) ou se foi pago após cobrança (COLLECTION_PAIDOFF);\n",
    "\n",
    "* Principal: Valor principal do empréstimo;\n",
    "\n",
    "* terms: pode ter agenda de pagamentos semanal (7) bisemanal (15) ou mensal (30);\n",
    "\n",
    "* Effective_date: quando o empréstimo foi originado;\n",
    "\n",
    "* Due_date: data de vencimento;\n",
    "\n",
    "* Paidoff_time: tempo levado pelo cliente para pagar o empréstimo;\n",
    "\n",
    "* Pastdue_days: dias passados do vencimento;\n",
    "\n",
    "* Age, education, gender: dados demográficos dos clientes"
   ]
  },
  {
   "cell_type": "code",
   "execution_count": 1,
   "metadata": {},
   "outputs": [],
   "source": [
    "import numpy as np\n",
    "import pandas as pd\n",
    "import matplotlib.pyplot as plt\n",
    "from matplotlib.ticker import NullFormatter\n",
    "import matplotlib.ticker as ticker\n",
    "import seaborn as sns\n",
    "import itertools\n",
    "from sklearn import preprocessing\n",
    "\n",
    "%matplotlib inline"
   ]
  },
  {
   "cell_type": "markdown",
   "metadata": {},
   "source": [
    "# Preparando o DataSample"
   ]
  },
  {
   "cell_type": "code",
   "execution_count": 2,
   "metadata": {},
   "outputs": [
    {
     "name": "stdout",
     "output_type": "stream",
     "text": [
      "       Loan_ID loan_status  Principal  terms effective_date   due_date  \\\n",
      "0  xqd20166231     PAIDOFF       1000     30       9/8/2016  10/7/2016   \n",
      "1  xqd20168902     PAIDOFF       1000     30       9/8/2016  10/7/2016   \n",
      "2  xqd20160003     PAIDOFF       1000     30       9/8/2016  10/7/2016   \n",
      "3  xqd20160004     PAIDOFF       1000     15       9/8/2016  9/22/2016   \n",
      "4  xqd20160005     PAIDOFF       1000     30       9/9/2016  10/8/2016   \n",
      "\n",
      "     paid_off_time  past_due_days  age             education  Gender  \n",
      "0  9/14/2016 19:31            NaN   45  High School or Below    male  \n",
      "1   10/7/2016 9:00            NaN   50              Bechalor  female  \n",
      "2  9/25/2016 16:58            NaN   33              Bechalor  female  \n",
      "3  9/22/2016 20:00            NaN   27               college    male  \n",
      "4  9/23/2016 21:36            NaN   28               college  female  \n",
      "(500, 11)\n"
     ]
    }
   ],
   "source": [
    "df = pd.read_csv('data/loanPayments.csv', sep = ',')\n",
    "\n",
    "print(df.head())\n",
    "\n",
    "print(df.shape)"
   ]
  },
  {
   "cell_type": "markdown",
   "metadata": {},
   "source": [
    "Algumas das colunas não são interessantes para o objetivo final: Loan_ID, past_due_days, paid_off_time. Além disso é importante formatar os datatypes das colunas restantes que contêm datas: effective_due e due_date"
   ]
  },
  {
   "cell_type": "code",
   "execution_count": 3,
   "metadata": {},
   "outputs": [
    {
     "name": "stdout",
     "output_type": "stream",
     "text": [
      "  loan_status  Principal  terms effective_date   due_date  age  \\\n",
      "0     PAIDOFF       1000     30     2016-09-08 2016-10-07   45   \n",
      "1     PAIDOFF       1000     30     2016-09-08 2016-10-07   50   \n",
      "2     PAIDOFF       1000     30     2016-09-08 2016-10-07   33   \n",
      "3     PAIDOFF       1000     15     2016-09-08 2016-09-22   27   \n",
      "4     PAIDOFF       1000     30     2016-09-09 2016-10-08   28   \n",
      "\n",
      "              education  Gender  \n",
      "0  High School or Below    male  \n",
      "1              Bechalor  female  \n",
      "2              Bechalor  female  \n",
      "3               college    male  \n",
      "4               college  female  \n",
      "(500, 8)\n"
     ]
    }
   ],
   "source": [
    "df.drop(columns = ['Loan_ID', 'past_due_days', 'paid_off_time'], inplace = True) #remove as colunas Loan_ID, past_due_days e paid_off_time\n",
    "\n",
    "df.effective_date = pd.to_datetime(df.effective_date) #converte effective_data para formato datetime\n",
    "df.due_date = pd.to_datetime(df.due_date) # converte due_date para formato datetime\n",
    "\n",
    "print(df.head())\n",
    "print(df.shape)"
   ]
  },
  {
   "cell_type": "markdown",
   "metadata": {},
   "source": [
    "Pretende-se fazer uma classificação binária, onde o 'loan_status' é a variável dependente, o target (Y). Assim os outros valores possíveis para 'loan_status' não nos interessam"
   ]
  },
  {
   "cell_type": "code",
   "execution_count": 4,
   "metadata": {},
   "outputs": [
    {
     "name": "stdout",
     "output_type": "stream",
     "text": [
      "  loan_status  Principal  terms effective_date   due_date  age  \\\n",
      "0     PAIDOFF       1000     30     2016-09-08 2016-10-07   45   \n",
      "1     PAIDOFF       1000     30     2016-09-08 2016-10-07   50   \n",
      "2     PAIDOFF       1000     30     2016-09-08 2016-10-07   33   \n",
      "3     PAIDOFF       1000     15     2016-09-08 2016-09-22   27   \n",
      "4     PAIDOFF       1000     30     2016-09-09 2016-10-08   28   \n",
      "\n",
      "              education  Gender  \n",
      "0  High School or Below    male  \n",
      "1              Bechalor  female  \n",
      "2              Bechalor  female  \n",
      "3               college    male  \n",
      "4               college  female  \n",
      "(400, 8)\n"
     ]
    }
   ],
   "source": [
    "target = (df.loan_status == 'PAIDOFF') | (df.loan_status == 'COLLECTION') #condição de filtragem\n",
    "\n",
    "df2 = df[target]\n",
    "\n",
    "print(df2.head())\n",
    "print(df2.shape)"
   ]
  },
  {
   "cell_type": "code",
   "execution_count": 5,
   "metadata": {},
   "outputs": [
    {
     "data": {
      "text/plain": [
       "PAIDOFF       300\n",
       "COLLECTION    100\n",
       "Name: loan_status, dtype: int64"
      ]
     },
     "execution_count": 5,
     "metadata": {},
     "output_type": "execute_result"
    }
   ],
   "source": [
    "df2['loan_status'].value_counts() #contagem de valores em 'laon_status'"
   ]
  },
  {
   "cell_type": "markdown",
   "metadata": {},
   "source": [
    "# Visualização, exploração e pré-processamento dos dados"
   ]
  },
  {
   "cell_type": "markdown",
   "metadata": {},
   "source": [
    "**Distribuição da quantia total de empréstimo por gênero**"
   ]
  },
  {
   "cell_type": "code",
   "execution_count": 6,
   "metadata": {},
   "outputs": [
    {
     "data": {
      "text/plain": [
       "<matplotlib.legend.Legend at 0x1a8a8a6ce80>"
      ]
     },
     "execution_count": 6,
     "metadata": {},
     "output_type": "execute_result"
    },
    {
     "data": {
      "image/png": "[encoded data removed]",
      "text/plain": [
       "<Figure size 432x216 with 2 Axes>"
      ]
     },
     "metadata": {},
     "output_type": "display_data"
    }
   ],
   "source": [
    "bins = np.linspace(df2.Principal.min(), df2.Principal.max(), 10)\n",
    "\n",
    "sns.set()\n",
    "plot1 = sns.FacetGrid(df2, col = 'Gender', hue = 'loan_status', palette = 'Set2', col_wrap = 2)\n",
    "plot1.map(plt.hist, 'Principal', bins = bins, ec = 'k')\n",
    "\n",
    "plot1.axes[-1].legend()"
   ]
  },
  {
   "cell_type": "code",
   "execution_count": 7,
   "metadata": {},
   "outputs": [
    {
     "data": {
      "text/plain": [
       "Gender  loan_status\n",
       "female  PAIDOFF        0.841270\n",
       "        COLLECTION     0.158730\n",
       "male    PAIDOFF        0.732938\n",
       "        COLLECTION     0.267062\n",
       "Name: loan_status, dtype: float64"
      ]
     },
     "execution_count": 7,
     "metadata": {},
     "output_type": "execute_result"
    }
   ],
   "source": [
    "df2.groupby('Gender')['loan_status'].value_counts(normalize = True) #contagem normalizada dos status de empréstimo agrupada por gênero"
   ]
  },
  {
   "cell_type": "markdown",
   "metadata": {},
   "source": [
    "Note que as mulheres pagam 84% dos empréstimos que realizam (e também fazem emprestimos menores) ao passo que apenas 73% dos homens pagam seus empréstimos. Assim o gênero pode ser uma característica interessante para essa classificação:"
   ]
  },
  {
   "cell_type": "code",
   "execution_count": 8,
   "metadata": {},
   "outputs": [
    {
     "name": "stderr",
     "output_type": "stream",
     "text": [
      "D:\\Anaconda3\\lib\\site-packages\\pandas\\core\\frame.py:3795: SettingWithCopyWarning: \n",
      "A value is trying to be set on a copy of a slice from a DataFrame\n",
      "\n",
      "See the caveats in the documentation: http://pandas.pydata.org/pandas-docs/stable/indexing.html#indexing-view-versus-copy\n",
      "  method=method)\n"
     ]
    }
   ],
   "source": [
    "df2.replace(to_replace = ['male', 'female'], value = [0, 1], inplace = True) #transforma entrada categórica em númérica: male = 0; female = 1"
   ]
  },
  {
   "cell_type": "markdown",
   "metadata": {},
   "source": [
    "** Distribuição da idade por gênero **"
   ]
  },
  {
   "cell_type": "code",
   "execution_count": 9,
   "metadata": {},
   "outputs": [
    {
     "data": {
      "text/plain": [
       "<matplotlib.legend.Legend at 0x1a8a8b18400>"
      ]
     },
     "execution_count": 9,
     "metadata": {},
     "output_type": "execute_result"
    },
    {
     "data": {
      "image/png": "[encoded data removed]",
      "text/plain": [
       "<Figure size 432x216 with 2 Axes>"
      ]
     },
     "metadata": {},
     "output_type": "display_data"
    }
   ],
   "source": [
    "bins2 = np.linspace(df2.age.min(), df2.age.max(), 10)\n",
    "sns.set()\n",
    "plot2 = sns.FacetGrid(df2, col = 'Gender', hue = 'loan_status', palette = 'Set2', col_wrap = 2)\n",
    "plot2.map(plt.hist, 'age', bins = bins2, ec ='k')\n",
    "\n",
    "plot2.axes[-1].legend()"
   ]
  },
  {
   "cell_type": "markdown",
   "metadata": {},
   "source": [
    "Tanto para homens como para mulheres parece que a inadimplência se concentra entre 20 e 30 anos"
   ]
  },
  {
   "cell_type": "markdown",
   "metadata": {},
   "source": [
    "** Dia da Semana em que os empréstimos são feitos **"
   ]
  },
  {
   "cell_type": "code",
   "execution_count": 10,
   "metadata": {},
   "outputs": [
    {
     "name": "stderr",
     "output_type": "stream",
     "text": [
      "D:\\Anaconda3\\lib\\site-packages\\ipykernel_launcher.py:1: SettingWithCopyWarning: \n",
      "A value is trying to be set on a copy of a slice from a DataFrame.\n",
      "Try using .loc[row_indexer,col_indexer] = value instead\n",
      "\n",
      "See the caveats in the documentation: http://pandas.pydata.org/pandas-docs/stable/indexing.html#indexing-view-versus-copy\n",
      "  \"\"\"Entry point for launching an IPython kernel.\n"
     ]
    },
    {
     "data": {
      "text/plain": [
       "<matplotlib.legend.Legend at 0x1a8a8cc12b0>"
      ]
     },
     "execution_count": 10,
     "metadata": {},
     "output_type": "execute_result"
    },
    {
     "data": {
      "image/png": "[encoded data removed]",
      "text/plain": [
       "<Figure size 432x216 with 2 Axes>"
      ]
     },
     "metadata": {},
     "output_type": "display_data"
    }
   ],
   "source": [
    "df2['dayofweek'] = df2.effective_date.dt.dayofweek\n",
    "bins3 = np.linspace(df2.dayofweek.min(), df2.dayofweek.max(), 10)\n",
    "\n",
    "sns.set()\n",
    "plot3 = sns.FacetGrid(df2, col = 'Gender', hue = 'loan_status', palette = 'Set2', col_wrap = 2)\n",
    "plot3.map(plt.hist, 'dayofweek', bins = bins3, ec = 'k')\n",
    "\n",
    "plot3.axes[-1].legend()"
   ]
  },
  {
   "cell_type": "markdown",
   "metadata": {},
   "source": [
    "Note que os empréstimos realizados no final de semana (entre 4 e 6) tendem a não ser pagos, segundo este dataset. Por isso, saber se o empréstimo foi realizado no final de semana ou não pode ser um parâmetro interessante:"
   ]
  },
  {
   "cell_type": "code",
   "execution_count": 11,
   "metadata": {},
   "outputs": [
    {
     "name": "stdout",
     "output_type": "stream",
     "text": [
      "  loan_status  Principal  terms effective_date   due_date  age  \\\n",
      "0     PAIDOFF       1000     30     2016-09-08 2016-10-07   45   \n",
      "1     PAIDOFF       1000     30     2016-09-08 2016-10-07   50   \n",
      "2     PAIDOFF       1000     30     2016-09-08 2016-10-07   33   \n",
      "3     PAIDOFF       1000     15     2016-09-08 2016-09-22   27   \n",
      "4     PAIDOFF       1000     30     2016-09-09 2016-10-08   28   \n",
      "\n",
      "              education  Gender  dayofweek  weekend  \n",
      "0  High School or Below       0          3        0  \n",
      "1              Bechalor       1          3        0  \n",
      "2              Bechalor       1          3        0  \n",
      "3               college       0          3        0  \n",
      "4               college       1          4        1  \n"
     ]
    },
    {
     "name": "stderr",
     "output_type": "stream",
     "text": [
      "D:\\Anaconda3\\lib\\site-packages\\ipykernel_launcher.py:1: SettingWithCopyWarning: \n",
      "A value is trying to be set on a copy of a slice from a DataFrame.\n",
      "Try using .loc[row_indexer,col_indexer] = value instead\n",
      "\n",
      "See the caveats in the documentation: http://pandas.pydata.org/pandas-docs/stable/indexing.html#indexing-view-versus-copy\n",
      "  \"\"\"Entry point for launching an IPython kernel.\n"
     ]
    }
   ],
   "source": [
    "df2['weekend'] = df2.dayofweek.apply(lambda x: 1 if (x>3) else 0)\n",
    "print(df2.head())"
   ]
  },
  {
   "cell_type": "markdown",
   "metadata": {},
   "source": [
    "** Distribuição da quantia de empréstimo por nível de escolaridade **"
   ]
  },
  {
   "cell_type": "code",
   "execution_count": 12,
   "metadata": {},
   "outputs": [
    {
     "data": {
      "text/plain": [
       "<matplotlib.legend.Legend at 0x1a8a8aa4940>"
      ]
     },
     "execution_count": 12,
     "metadata": {},
     "output_type": "execute_result"
    },
    {
     "data": {
      "image/png": "[encoded data removed]",
      "text/plain": [
       "<Figure size 432x432 with 4 Axes>"
      ]
     },
     "metadata": {},
     "output_type": "display_data"
    }
   ],
   "source": [
    "sns.set()\n",
    "plot4 = sns.FacetGrid(df2, col = 'education', hue = 'loan_status', palette = 'Set2', col_wrap = 2)\n",
    "plot4.map(plt.hist, 'Principal', bins = bins, ec = 'k')\n",
    "\n",
    "plot4.axes[1].legend()"
   ]
  },
  {
   "cell_type": "code",
   "execution_count": 13,
   "metadata": {},
   "outputs": [
    {
     "data": {
      "text/plain": [
       "education             loan_status\n",
       "Bechalor              PAIDOFF        0.788462\n",
       "                      COLLECTION     0.211538\n",
       "High School or Below  PAIDOFF        0.715116\n",
       "                      COLLECTION     0.284884\n",
       "Master or Above       PAIDOFF        0.750000\n",
       "                      COLLECTION     0.250000\n",
       "college               PAIDOFF        0.773256\n",
       "                      COLLECTION     0.226744\n",
       "Name: loan_status, dtype: float64"
      ]
     },
     "execution_count": 13,
     "metadata": {},
     "output_type": "execute_result"
    }
   ],
   "source": [
    "df2.groupby('education')['loan_status'].value_counts(normalize = True) #contagem normalizada do status do empréstimo agrupada por nível de escolaridade"
   ]
  },
  {
   "cell_type": "markdown",
   "metadata": {},
   "source": [
    "A escolaridade também parece ser um critério interessante"
   ]
  },
  {
   "cell_type": "code",
   "execution_count": 14,
   "metadata": {},
   "outputs": [
    {
     "name": "stdout",
     "output_type": "stream",
     "text": [
      "   Bechalor  High School or Below  Master or Above  college\n",
      "0         0                     1                0        0\n",
      "1         1                     0                0        0\n",
      "2         1                     0                0        0\n",
      "3         0                     0                0        1\n",
      "4         0                     0                0        1\n",
      "  loan_status  Principal  terms effective_date   due_date  age  Gender  \\\n",
      "0     PAIDOFF       1000     30     2016-09-08 2016-10-07   45       0   \n",
      "1     PAIDOFF       1000     30     2016-09-08 2016-10-07   50       1   \n",
      "2     PAIDOFF       1000     30     2016-09-08 2016-10-07   33       1   \n",
      "3     PAIDOFF       1000     15     2016-09-08 2016-09-22   27       0   \n",
      "4     PAIDOFF       1000     30     2016-09-09 2016-10-08   28       1   \n",
      "\n",
      "   dayofweek  weekend  Bechalor  High School or Below  Master or Above  \\\n",
      "0          3        0         0                     1                0   \n",
      "1          3        0         1                     0                0   \n",
      "2          3        0         1                     0                0   \n",
      "3          3        0         0                     0                0   \n",
      "4          4        1         0                     0                0   \n",
      "\n",
      "   college  \n",
      "0        0  \n",
      "1        0  \n",
      "2        0  \n",
      "3        1  \n",
      "4        1  \n"
     ]
    }
   ],
   "source": [
    "education = pd.get_dummies(df2.education) #transforma as variáveis categóricas da coluna education em atributos binários\n",
    "\n",
    "df2 = pd.concat([df2, education], axis = 1)\n",
    "df2.drop(columns = 'education', inplace = True)\n",
    "\n",
    "print(education.head())\n",
    "print(df2.head())"
   ]
  },
  {
   "cell_type": "markdown",
   "metadata": {},
   "source": [
    "** Distribuição da quantia de empréstimo por vencimento **"
   ]
  },
  {
   "cell_type": "code",
   "execution_count": 15,
   "metadata": {},
   "outputs": [
    {
     "data": {
      "text/plain": [
       "<matplotlib.legend.Legend at 0x1a8a8f26048>"
      ]
     },
     "execution_count": 15,
     "metadata": {},
     "output_type": "execute_result"
    },
    {
     "data": {
      "image/png": "[encoded data removed]",
      "text/plain": [
       "<Figure size 432x432 with 3 Axes>"
      ]
     },
     "metadata": {},
     "output_type": "display_data"
    }
   ],
   "source": [
    "sns.set()\n",
    "plot5 = sns.FacetGrid(df2, col = 'terms', hue = 'loan_status',palette = 'Set2', col_wrap = 2)\n",
    "plot5.map(plt.hist, 'Principal', bins = bins, ec = 'k')\n",
    "\n",
    "plot5.axes[1].legend()"
   ]
  },
  {
   "cell_type": "code",
   "execution_count": 16,
   "metadata": {},
   "outputs": [
    {
     "data": {
      "text/plain": [
       "terms  loan_status\n",
       "7      PAIDOFF        1.000000\n",
       "15     PAIDOFF        0.755952\n",
       "       COLLECTION     0.244048\n",
       "30     PAIDOFF        0.721698\n",
       "       COLLECTION     0.278302\n",
       "Name: loan_status, dtype: float64"
      ]
     },
     "execution_count": 16,
     "metadata": {},
     "output_type": "execute_result"
    }
   ],
   "source": [
    "df2.groupby('terms')['loan_status'].value_counts(normalize = True) #contagem normalizada os status de empréstimo agrupadas por termos"
   ]
  },
  {
   "cell_type": "markdown",
   "metadata": {},
   "source": [
    "Os termos do empréstimo também parece ser importante, com atenção especial para os empréstimos semanais que, segundo o dataset, são sempre pagos."
   ]
  },
  {
   "cell_type": "markdown",
   "metadata": {},
   "source": [
    "Dadas as considerações anteriores, os parâmetros selecionados para modelagem serão:\n",
    "\n",
    "* Principal\n",
    "* terms\n",
    "* age\n",
    "* Gender\n",
    "* weekend\n",
    "* Nível de educação\n"
   ]
  },
  {
   "cell_type": "code",
   "execution_count": 17,
   "metadata": {},
   "outputs": [
    {
     "name": "stdout",
     "output_type": "stream",
     "text": [
      "   Principal  terms  age  Gender  weekend  Bechalor  High School or Below  \\\n",
      "0       1000     30   45       0        0         0                     1   \n",
      "1       1000     30   50       1        0         1                     0   \n",
      "2       1000     30   33       1        0         1                     0   \n",
      "3       1000     15   27       0        0         0                     0   \n",
      "4       1000     30   28       1        1         0                     0   \n",
      "\n",
      "   Master or Above  college  \n",
      "0                0        0  \n",
      "1                0        0  \n",
      "2                0        0  \n",
      "3                0        1  \n",
      "4                0        1  \n"
     ]
    }
   ],
   "source": [
    "features  = df2.drop(columns = ['loan_status', 'effective_date', 'due_date', 'dayofweek'])\n",
    "\n",
    "print(features.head())"
   ]
  },
  {
   "cell_type": "markdown",
   "metadata": {},
   "source": [
    "Assim:"
   ]
  },
  {
   "cell_type": "code",
   "execution_count": 26,
   "metadata": {},
   "outputs": [
    {
     "name": "stdout",
     "output_type": "stream",
     "text": [
      "   Principal  terms  age  Gender  weekend  Bechalor  High School or Below  \\\n",
      "0       1000     30   45       0        0         0                     1   \n",
      "1       1000     30   50       1        0         1                     0   \n",
      "2       1000     30   33       1        0         1                     0   \n",
      "3       1000     15   27       0        0         0                     0   \n",
      "4       1000     30   28       1        1         0                     0   \n",
      "\n",
      "   Master or Above  college  \n",
      "0                0        0  \n",
      "1                0        0  \n",
      "2                0        0  \n",
      "3                0        1  \n",
      "4                0        1  \n",
      "[1 1 1 1 1]\n"
     ]
    }
   ],
   "source": [
    "X = features\n",
    "\n",
    "df2.replace(to_replace = ['PAIDOFF', 'COLLECTION'], value = [1,0], inplace = True) #PAIDOFF = 1; COLLECTION = 0\n",
    "y = df2.loan_status.values\n",
    "\n",
    "print(X.head())\n",
    "print(y[0:5])"
   ]
  },
  {
   "cell_type": "markdown",
   "metadata": {},
   "source": [
    "# Normalização, treino e teste"
   ]
  },
  {
   "cell_type": "code",
   "execution_count": 19,
   "metadata": {},
   "outputs": [
    {
     "name": "stdout",
     "output_type": "stream",
     "text": [
      "[[ 0.50130175  0.92089421  2.31334964 -0.43236977 -1.21838912 -0.38655567\n",
      "   1.15133896 -0.10050378 -0.86855395]\n",
      " [ 0.50130175  0.92089421  3.14310202  2.31283513 -1.21838912  2.5869495\n",
      "  -0.86855395 -0.10050378 -0.86855395]\n",
      " [ 0.50130175  0.92089421  0.32194392  2.31283513 -1.21838912  2.5869495\n",
      "  -0.86855395 -0.10050378 -0.86855395]\n",
      " [ 0.50130175 -0.9332552  -0.67375893 -0.43236977 -1.21838912 -0.38655567\n",
      "  -0.86855395 -0.10050378  1.15133896]\n",
      " [ 0.50130175  0.92089421 -0.50780846  2.31283513  0.82075585 -0.38655567\n",
      "  -0.86855395 -0.10050378  1.15133896]]\n"
     ]
    }
   ],
   "source": [
    "X = preprocessing.StandardScaler().fit(X).transform(X.astype(float)) #padronizando os dados eles ganham média zero e variação unitária\n",
    "\n",
    "print(X[0:5])"
   ]
  },
  {
   "cell_type": "code",
   "execution_count": 31,
   "metadata": {},
   "outputs": [
    {
     "name": "stdout",
     "output_type": "stream",
     "text": [
      "Forma dos daos de treino: (280, 9) (280,)\n",
      "Forma dos dados de teste:  (120, 9) (120,)\n"
     ]
    }
   ],
   "source": [
    "from sklearn.model_selection import train_test_split\n",
    "X_train, X_test, y_train, y_test = train_test_split(X, y, test_size = 0.3, random_state = 4) #divide os dados em treino(70%) e teste(30%)\n",
    "\n",
    "print('Forma dos daos de treino:', X_train.shape, y_train.shape)\n",
    "print('Forma dos dados de teste: ', X_test.shape, y_test.shape)"
   ]
  },
  {
   "cell_type": "code",
   "execution_count": 32,
   "metadata": {},
   "outputs": [],
   "source": [
    "from sklearn.neighbors import KNeighborsClassifier"
   ]
  },
  {
   "cell_type": "markdown",
   "metadata": {},
   "source": [
    "** Treino **"
   ]
  },
  {
   "cell_type": "code",
   "execution_count": 73,
   "metadata": {},
   "outputs": [
    {
     "data": {
      "text/plain": [
       "KNeighborsClassifier(algorithm='auto', leaf_size=30, metric='minkowski',\n",
       "           metric_params=None, n_jobs=1, n_neighbors=5, p=2,\n",
       "           weights='uniform')"
      ]
     },
     "execution_count": 73,
     "metadata": {},
     "output_type": "execute_result"
    }
   ],
   "source": [
    "k = 5\n",
    "loan_knn = KNeighborsClassifier(n_neighbors = k).fit(X_train, y_train)\n",
    "loan_knn"
   ]
  },
  {
   "cell_type": "markdown",
   "metadata": {},
   "source": [
    "** Teste **"
   ]
  },
  {
   "cell_type": "code",
   "execution_count": 74,
   "metadata": {},
   "outputs": [
    {
     "name": "stdout",
     "output_type": "stream",
     "text": [
      "[1 0 1 1 1]\n"
     ]
    }
   ],
   "source": [
    "yhat = loan_knn.predict(X_test)\n",
    "\n",
    "print(yhat[0:5])"
   ]
  },
  {
   "cell_type": "markdown",
   "metadata": {},
   "source": [
    "** Avaliação **"
   ]
  },
  {
   "cell_type": "code",
   "execution_count": 95,
   "metadata": {},
   "outputs": [
    {
     "name": "stdout",
     "output_type": "stream",
     "text": [
      "Pontuações de traino: \n",
      " \t Precisão [0.68292683 0.82008368] média:  0.7515052556383305 \n",
      " \t Recall: [0.3943662  0.93779904] média 0.6660826201226497 \n",
      " \t F1-Score [0.5   0.875] média 0.6875\n",
      "\n",
      "Pontuações de teste: \n",
      " \t Precisão [0.4        0.78095238] média:  0.5904761904761905 \n",
      " \t Recall: [0.20689655 0.9010989 ] média 0.5539977264115196 \n",
      " \t F1-Score [0.27272727 0.83673469] média 0.5547309833024119\n"
     ]
    }
   ],
   "source": [
    "from sklearn import metrics\n",
    "train_precision_score = metrics.precision_score(y_train, loan_knn.predict(X_train), average = None)\n",
    "train_recall_score = metrics.recall_score(y_train, loan_knn.predict(X_train), average = None)\n",
    "train_score = metrics.f1_score(y_train, loan_knn.predict(X_train), average = None)\n",
    "\n",
    "test_precision_score = metrics.precision_score(y_test, yhat, average = None)\n",
    "test_recall_score = metrics.recall_score(y_test, yhat, average = None)\n",
    "test_score = metrics.f1_score(y_test, yhat, average = None)\n",
    "\n",
    "print('Pontuações de traino:', \n",
    "      '\\n \\t Precisão', train_precision_score, 'média: ', train_precision_score.mean(),\n",
    "      '\\n \\t Recall:', train_recall_score, 'média', train_recall_score.mean(),\n",
    "      '\\n \\t F1-Score', train_score, 'média', train_score.mean())\n",
    "\n",
    "print('\\nPontuações de teste:', \n",
    "      '\\n \\t Precisão', test_precision_score, 'média: ', test_precision_score.mean(),\n",
    "      '\\n \\t Recall:', test_recall_score, 'média', test_recall_score.mean(),\n",
    "      '\\n \\t F1-Score', test_score, 'média', test_score.mean())"
   ]
  },
  {
   "cell_type": "code",
   "execution_count": null,
   "metadata": {},
   "outputs": [],
   "source": []
  },
  {
   "cell_type": "code",
   "execution_count": null,
   "metadata": {},
   "outputs": [],
   "source": []
  },
  {
   "cell_type": "code",
   "execution_count": null,
   "metadata": {},
   "outputs": [],
   "source": []
  }
 ],
 "metadata": {
  "kernelspec": {
   "display_name": "Python 3",
   "language": "python",
   "name": "python3"
  },
  "language_info": {
   "codemirror_mode": {
    "name": "ipython",
    "version": 3
   },
   "file_extension": ".py",
   "mimetype": "text/x-python",
   "name": "python",
   "nbconvert_exporter": "python",
   "pygments_lexer": "ipython3",
   "version": "3.6.5"
  }
 },
 "nbformat": 4,
 "nbformat_minor": 2
}
